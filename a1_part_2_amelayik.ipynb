{
 "cells": [
  {
   "cell_type": "markdown",
   "metadata": {},
   "source": [
    "# Part II: Investigating the Vanishing Gradient Problem [20 pts]\n",
    "Experimentally demonstrate the vanishing gradient problem in deep CNNs and understand how ResNet's architecture mitigates it. You will also explore other key CNN concepts through additional experiments."
   ]
  },
  {
   "cell_type": "code",
   "execution_count": 53,
   "metadata": {},
   "outputs": [],
   "source": [
    "import torch\n",
    "import torch.nn as nn\n",
    "from torchvision import datasets, transforms\n",
    "import torch.optim as optim\n",
    "from torch.utils.data import DataLoader\n",
    "import torch.nn.functional as F\n",
    "\n",
    "import matplotlib.pyplot as plt\n",
    "\n",
    "from tqdm import tqdm\n",
    "\n",
    "import numpy as np\n",
    "import random\n",
    "\n",
    "from torchsummary import summary\n",
    "\n",
    "import pandas as pd\n",
    "\n",
    "from sklearn.model_selection import train_test_split\n",
    "\n",
    "from collections import defaultdict\n",
    "import time"
   ]
  },
  {
   "cell_type": "code",
   "execution_count": 54,
   "metadata": {},
   "outputs": [],
   "source": [
    "random.seed(42)\n",
    "np.random.seed(42)\n",
    "torch.manual_seed(42)\n",
    "torch.cuda.manual_seed(42)\n",
    "torch.cuda.manual_seed_all(42)\n",
    "torch.backends.cudnn.deterministic = True\n",
    "torch.backends.cudnn.benchmark = False"
   ]
  },
  {
   "cell_type": "code",
   "execution_count": 55,
   "metadata": {},
   "outputs": [
    {
     "name": "stdout",
     "output_type": "stream",
     "text": [
      "Total images: 30000\n",
      "Classes: ['dogs', 'food', 'vehicles']\n",
      "Class counts: [10000 10000 10000]\n"
     ]
    }
   ],
   "source": [
    "data_dir = './cnn_dataset'\n",
    "transform = transforms.Compose([transforms.ToTensor()])\n",
    "dataset = datasets.ImageFolder(data_dir, transform=transform)\n",
    "\n",
    "print(f\"Total images: {len(dataset)}\")\n",
    "print(f\"Classes: {dataset.classes}\")\n",
    "print(f\"Class counts: {np.bincount(dataset.targets)}\")\n",
    "\n",
    "\n",
    "train_idx, temp_idx = train_test_split(range(len(dataset)), test_size=0.3, random_state=42)\n",
    "val_idx, test_idx = train_test_split(temp_idx, test_size=0.5, random_state=42)\n",
    "\n",
    "train_dataset = torch.utils.data.Subset(dataset, train_idx)\n",
    "val_dataset = torch.utils.data.Subset(dataset, val_idx)\n",
    "test_dataset = torch.utils.data.Subset(dataset, test_idx)"
   ]
  },
  {
   "cell_type": "markdown",
   "metadata": {},
   "source": [
    "## Step 1: Create a deeper version of your VGG-16 network (VGG-Deep)"
   ]
  },
  {
   "cell_type": "code",
   "execution_count": 56,
   "metadata": {},
   "outputs": [],
   "source": [
    "# ### ADD YOUR CODE HERE ###\n",
    "\n",
    "class VGGDeep(nn.Module):\n",
    "    def __init__(self, num_classes=3):\n",
    "        super().__init__()\n",
    "        self.features = nn.Sequential(\n",
    "            # Block 1 (64)\n",
    "            nn.Conv2d(3, 64, kernel_size=3, padding=1),\n",
    "            nn.ReLU(inplace=False),\n",
    "            nn.Conv2d(64, 64, kernel_size=3, padding=1),\n",
    "            nn.ReLU(inplace=False),\n",
    "            nn.MaxPool2d(kernel_size=2, stride=2),\n",
    "            \n",
    "            # Block 2 (128)\n",
    "            nn.Conv2d(64, 128, kernel_size=3, padding=1),\n",
    "            nn.ReLU(inplace=False),\n",
    "            nn.Conv2d(128, 128, kernel_size=3, padding=1),\n",
    "            nn.ReLU(inplace=False),\n",
    "            nn.MaxPool2d(kernel_size=2, stride=2),\n",
    "            \n",
    "            # Block 3 (256) with 1x1 conv\n",
    "            nn.Conv2d(128, 256, kernel_size=3, padding=1),\n",
    "            nn.ReLU(inplace=False),\n",
    "            nn.Conv2d(256, 256, kernel_size=3, padding=1),\n",
    "            nn.ReLU(inplace=False),\n",
    "            nn.Conv2d(256, 256, kernel_size=1),\n",
    "            nn.ReLU(inplace=False),\n",
    "            nn.MaxPool2d(kernel_size=2, stride=2),\n",
    "            \n",
    "            # Block 4 (512) - Original + 2 new convs\n",
    "            nn.Conv2d(256, 512, kernel_size=3, padding=1),\n",
    "            nn.ReLU(inplace=False),\n",
    "            nn.Conv2d(512, 512, kernel_size=3, padding=1),\n",
    "            nn.ReLU(inplace=False),\n",
    "            nn.Conv2d(512, 512, kernel_size=1),  # 1x1 conv (Version C)\n",
    "            nn.ReLU(inplace=False),\n",
    "            \n",
    "            nn.Conv2d(512, 512, kernel_size=3, padding=1),\n",
    "            nn.ReLU(inplace=False),\n",
    "            nn.Conv2d(512, 512, kernel_size=3, padding=1),\n",
    "            nn.ReLU(inplace=False),\n",
    "            nn.Conv2d(512, 512, kernel_size=1),  # 1x1 conv (Version C)\n",
    "            nn.ReLU(inplace=False),\n",
    "            \n",
    "            # Block 5 (512) - Original + 2 new convs\n",
    "            nn.Conv2d(512, 1024, kernel_size=3, padding=1),\n",
    "            nn.ReLU(inplace=False),\n",
    "            nn.Conv2d(1024, 1024, kernel_size=3, padding=1),\n",
    "            nn.ReLU(inplace=False),\n",
    "            # Additional layers\n",
    "            nn.Conv2d(1024, 1024, kernel_size=3, padding=1),\n",
    "            nn.ReLU(inplace=False),\n",
    "            nn.Conv2d(1024, 1024, kernel_size=3, padding=1),\n",
    "            nn.ReLU(inplace=False),\n",
    "        )\n",
    "        \n",
    "        self.classifier = nn.Sequential(\n",
    "            nn.Linear(1024 * 8 * 8, 4096),  # Adjusted for 64x64 input\n",
    "            nn.ReLU(inplace=False),\n",
    "\n",
    "            nn.Linear(4096, 4096),\n",
    "            nn.ReLU(inplace=False),\n",
    "\n",
    "            nn.Linear(4096, num_classes),\n",
    "            nn.Softmax(dim=1)\n",
    "        )\n",
    "\n",
    "    def forward(self, x):\n",
    "        x = self.features(x)\n",
    "        x = torch.flatten(x, 1)\n",
    "        x = self.classifier(x)\n",
    "        return x"
   ]
  },
  {
   "cell_type": "code",
   "execution_count": 57,
   "metadata": {},
   "outputs": [
    {
     "name": "stdout",
     "output_type": "stream",
     "text": [
      "cuda\n"
     ]
    }
   ],
   "source": [
    "device = torch.device(\"mps\" if torch.backends.mps.is_available() else \n",
    "                      \"cuda\" if torch.cuda.is_available() else \"cpu\")\n",
    "print(device)"
   ]
  },
  {
   "cell_type": "code",
   "execution_count": 58,
   "metadata": {},
   "outputs": [],
   "source": [
    "def init_weights(m):\n",
    "    if isinstance(m, nn.Conv2d):\n",
    "        nn.init.kaiming_uniform_(m.weight, nonlinearity='relu')"
   ]
  },
  {
   "cell_type": "code",
   "execution_count": 59,
   "metadata": {
    "scrolled": false
   },
   "outputs": [],
   "source": [
    "model = VGGDeep().to(device)"
   ]
  },
  {
   "cell_type": "code",
   "execution_count": 60,
   "metadata": {
    "scrolled": true
   },
   "outputs": [
    {
     "name": "stdout",
     "output_type": "stream",
     "text": [
      "=================================================================\n",
      "Layer (type:depth-idx)                   Param #\n",
      "=================================================================\n",
      "├─Sequential: 1-1                        --\n",
      "|    └─Conv2d: 2-1                       1,792\n",
      "|    └─ReLU: 2-2                         --\n",
      "|    └─Conv2d: 2-3                       36,928\n",
      "|    └─ReLU: 2-4                         --\n",
      "|    └─MaxPool2d: 2-5                    --\n",
      "|    └─Conv2d: 2-6                       73,856\n",
      "|    └─ReLU: 2-7                         --\n",
      "|    └─Conv2d: 2-8                       147,584\n",
      "|    └─ReLU: 2-9                         --\n",
      "|    └─MaxPool2d: 2-10                   --\n",
      "|    └─Conv2d: 2-11                      295,168\n",
      "|    └─ReLU: 2-12                        --\n",
      "|    └─Conv2d: 2-13                      590,080\n",
      "|    └─ReLU: 2-14                        --\n",
      "|    └─Conv2d: 2-15                      65,792\n",
      "|    └─ReLU: 2-16                        --\n",
      "|    └─MaxPool2d: 2-17                   --\n",
      "|    └─Conv2d: 2-18                      1,180,160\n",
      "|    └─ReLU: 2-19                        --\n",
      "|    └─Conv2d: 2-20                      2,359,808\n",
      "|    └─ReLU: 2-21                        --\n",
      "|    └─Conv2d: 2-22                      262,656\n",
      "|    └─ReLU: 2-23                        --\n",
      "|    └─Conv2d: 2-24                      2,359,808\n",
      "|    └─ReLU: 2-25                        --\n",
      "|    └─Conv2d: 2-26                      2,359,808\n",
      "|    └─ReLU: 2-27                        --\n",
      "|    └─Conv2d: 2-28                      262,656\n",
      "|    └─ReLU: 2-29                        --\n",
      "|    └─Conv2d: 2-30                      4,719,616\n",
      "|    └─ReLU: 2-31                        --\n",
      "|    └─Conv2d: 2-32                      9,438,208\n",
      "|    └─ReLU: 2-33                        --\n",
      "|    └─Conv2d: 2-34                      9,438,208\n",
      "|    └─ReLU: 2-35                        --\n",
      "|    └─Conv2d: 2-36                      9,438,208\n",
      "|    └─ReLU: 2-37                        --\n",
      "├─Sequential: 1-2                        --\n",
      "|    └─Linear: 2-38                      268,439,552\n",
      "|    └─ReLU: 2-39                        --\n",
      "|    └─Linear: 2-40                      16,781,312\n",
      "|    └─ReLU: 2-41                        --\n",
      "|    └─Linear: 2-42                      12,291\n",
      "|    └─Softmax: 2-43                     --\n",
      "=================================================================\n",
      "Total params: 328,263,491\n",
      "Trainable params: 328,263,491\n",
      "Non-trainable params: 0\n",
      "=================================================================\n"
     ]
    },
    {
     "data": {
      "text/plain": [
       "=================================================================\n",
       "Layer (type:depth-idx)                   Param #\n",
       "=================================================================\n",
       "├─Sequential: 1-1                        --\n",
       "|    └─Conv2d: 2-1                       1,792\n",
       "|    └─ReLU: 2-2                         --\n",
       "|    └─Conv2d: 2-3                       36,928\n",
       "|    └─ReLU: 2-4                         --\n",
       "|    └─MaxPool2d: 2-5                    --\n",
       "|    └─Conv2d: 2-6                       73,856\n",
       "|    └─ReLU: 2-7                         --\n",
       "|    └─Conv2d: 2-8                       147,584\n",
       "|    └─ReLU: 2-9                         --\n",
       "|    └─MaxPool2d: 2-10                   --\n",
       "|    └─Conv2d: 2-11                      295,168\n",
       "|    └─ReLU: 2-12                        --\n",
       "|    └─Conv2d: 2-13                      590,080\n",
       "|    └─ReLU: 2-14                        --\n",
       "|    └─Conv2d: 2-15                      65,792\n",
       "|    └─ReLU: 2-16                        --\n",
       "|    └─MaxPool2d: 2-17                   --\n",
       "|    └─Conv2d: 2-18                      1,180,160\n",
       "|    └─ReLU: 2-19                        --\n",
       "|    └─Conv2d: 2-20                      2,359,808\n",
       "|    └─ReLU: 2-21                        --\n",
       "|    └─Conv2d: 2-22                      262,656\n",
       "|    └─ReLU: 2-23                        --\n",
       "|    └─Conv2d: 2-24                      2,359,808\n",
       "|    └─ReLU: 2-25                        --\n",
       "|    └─Conv2d: 2-26                      2,359,808\n",
       "|    └─ReLU: 2-27                        --\n",
       "|    └─Conv2d: 2-28                      262,656\n",
       "|    └─ReLU: 2-29                        --\n",
       "|    └─Conv2d: 2-30                      4,719,616\n",
       "|    └─ReLU: 2-31                        --\n",
       "|    └─Conv2d: 2-32                      9,438,208\n",
       "|    └─ReLU: 2-33                        --\n",
       "|    └─Conv2d: 2-34                      9,438,208\n",
       "|    └─ReLU: 2-35                        --\n",
       "|    └─Conv2d: 2-36                      9,438,208\n",
       "|    └─ReLU: 2-37                        --\n",
       "├─Sequential: 1-2                        --\n",
       "|    └─Linear: 2-38                      268,439,552\n",
       "|    └─ReLU: 2-39                        --\n",
       "|    └─Linear: 2-40                      16,781,312\n",
       "|    └─ReLU: 2-41                        --\n",
       "|    └─Linear: 2-42                      12,291\n",
       "|    └─Softmax: 2-43                     --\n",
       "=================================================================\n",
       "Total params: 328,263,491\n",
       "Trainable params: 328,263,491\n",
       "Non-trainable params: 0\n",
       "================================================================="
      ]
     },
     "execution_count": 60,
     "metadata": {},
     "output_type": "execute_result"
    }
   ],
   "source": [
    "summary(model, input_size=(3, 64, 64))"
   ]
  },
  {
   "cell_type": "code",
   "execution_count": 61,
   "metadata": {},
   "outputs": [
    {
     "data": {
      "text/plain": [
       "VGGDeep(\n",
       "  (features): Sequential(\n",
       "    (0): Conv2d(3, 64, kernel_size=(3, 3), stride=(1, 1), padding=(1, 1))\n",
       "    (1): ReLU()\n",
       "    (2): Conv2d(64, 64, kernel_size=(3, 3), stride=(1, 1), padding=(1, 1))\n",
       "    (3): ReLU()\n",
       "    (4): MaxPool2d(kernel_size=2, stride=2, padding=0, dilation=1, ceil_mode=False)\n",
       "    (5): Conv2d(64, 128, kernel_size=(3, 3), stride=(1, 1), padding=(1, 1))\n",
       "    (6): ReLU()\n",
       "    (7): Conv2d(128, 128, kernel_size=(3, 3), stride=(1, 1), padding=(1, 1))\n",
       "    (8): ReLU()\n",
       "    (9): MaxPool2d(kernel_size=2, stride=2, padding=0, dilation=1, ceil_mode=False)\n",
       "    (10): Conv2d(128, 256, kernel_size=(3, 3), stride=(1, 1), padding=(1, 1))\n",
       "    (11): ReLU()\n",
       "    (12): Conv2d(256, 256, kernel_size=(3, 3), stride=(1, 1), padding=(1, 1))\n",
       "    (13): ReLU()\n",
       "    (14): Conv2d(256, 256, kernel_size=(1, 1), stride=(1, 1))\n",
       "    (15): ReLU()\n",
       "    (16): MaxPool2d(kernel_size=2, stride=2, padding=0, dilation=1, ceil_mode=False)\n",
       "    (17): Conv2d(256, 512, kernel_size=(3, 3), stride=(1, 1), padding=(1, 1))\n",
       "    (18): ReLU()\n",
       "    (19): Conv2d(512, 512, kernel_size=(3, 3), stride=(1, 1), padding=(1, 1))\n",
       "    (20): ReLU()\n",
       "    (21): Conv2d(512, 512, kernel_size=(1, 1), stride=(1, 1))\n",
       "    (22): ReLU()\n",
       "    (23): Conv2d(512, 512, kernel_size=(3, 3), stride=(1, 1), padding=(1, 1))\n",
       "    (24): ReLU()\n",
       "    (25): Conv2d(512, 512, kernel_size=(3, 3), stride=(1, 1), padding=(1, 1))\n",
       "    (26): ReLU()\n",
       "    (27): Conv2d(512, 512, kernel_size=(1, 1), stride=(1, 1))\n",
       "    (28): ReLU()\n",
       "    (29): Conv2d(512, 1024, kernel_size=(3, 3), stride=(1, 1), padding=(1, 1))\n",
       "    (30): ReLU()\n",
       "    (31): Conv2d(1024, 1024, kernel_size=(3, 3), stride=(1, 1), padding=(1, 1))\n",
       "    (32): ReLU()\n",
       "    (33): Conv2d(1024, 1024, kernel_size=(3, 3), stride=(1, 1), padding=(1, 1))\n",
       "    (34): ReLU()\n",
       "    (35): Conv2d(1024, 1024, kernel_size=(3, 3), stride=(1, 1), padding=(1, 1))\n",
       "    (36): ReLU()\n",
       "  )\n",
       "  (classifier): Sequential(\n",
       "    (0): Linear(in_features=65536, out_features=4096, bias=True)\n",
       "    (1): ReLU()\n",
       "    (2): Linear(in_features=4096, out_features=4096, bias=True)\n",
       "    (3): ReLU()\n",
       "    (4): Linear(in_features=4096, out_features=3, bias=True)\n",
       "    (5): Softmax(dim=1)\n",
       "  )\n",
       ")"
      ]
     },
     "execution_count": 61,
     "metadata": {},
     "output_type": "execute_result"
    }
   ],
   "source": [
    "model.apply(init_weights)"
   ]
  },
  {
   "cell_type": "code",
   "execution_count": 62,
   "metadata": {},
   "outputs": [],
   "source": [
    "grad_norms = defaultdict(list)\n",
    "epoch_grad_norms = defaultdict(list)\n",
    "\n",
    "def make_gradient_hook(layer_name):\n",
    "    def hook_fn(module, grad_input, grad_output):\n",
    "        if grad_output[0] is not None:\n",
    "            grad_value = grad_output[0].norm(p=2).item()\n",
    "            grad_norms[layer_name].append(grad_value)\n",
    "    return hook_fn\n",
    "\n",
    "for name, module in model.named_modules():\n",
    "    if isinstance(module, nn.Conv2d):\n",
    "        module.register_full_backward_hook(make_gradient_hook(name))\n"
   ]
  },
  {
   "cell_type": "code",
   "execution_count": 63,
   "metadata": {},
   "outputs": [],
   "source": [
    "criterion = nn.CrossEntropyLoss()"
   ]
  },
  {
   "cell_type": "code",
   "execution_count": 64,
   "metadata": {},
   "outputs": [],
   "source": [
    "optimizer = optim.SGD(model.parameters(), lr=0.01)"
   ]
  },
  {
   "cell_type": "code",
   "execution_count": 65,
   "metadata": {},
   "outputs": [],
   "source": [
    "train_loader = DataLoader(train_dataset, batch_size=64, shuffle=True)\n",
    "val_loader = DataLoader(val_dataset, batch_size=64)\n",
    "test_loader = DataLoader(test_dataset, batch_size=64)"
   ]
  },
  {
   "cell_type": "markdown",
   "metadata": {},
   "source": [
    "## Step 2: Training VGG-Deep"
   ]
  },
  {
   "cell_type": "code",
   "execution_count": 66,
   "metadata": {},
   "outputs": [
    {
     "name": "stderr",
     "output_type": "stream",
     "text": [
      "                                                                                         \r"
     ]
    },
    {
     "name": "stdout",
     "output_type": "stream",
     "text": [
      "Epoch 1 | Train Loss: 0.9546, Acc: 57.57% | Val Loss: 0.9532, Acc: 57.67%\n"
     ]
    },
    {
     "name": "stderr",
     "output_type": "stream",
     "text": [
      "                                                                                         \r"
     ]
    },
    {
     "name": "stdout",
     "output_type": "stream",
     "text": [
      "Epoch 2 | Train Loss: 0.8124, Acc: 73.12% | Val Loss: 0.7609, Acc: 78.87%\n"
     ]
    },
    {
     "name": "stderr",
     "output_type": "stream",
     "text": [
      "                                                                                         \r"
     ]
    },
    {
     "name": "stdout",
     "output_type": "stream",
     "text": [
      "Epoch 3 | Train Loss: 0.7753, Acc: 76.70% | Val Loss: 0.7714, Acc: 77.44%\n"
     ]
    },
    {
     "name": "stderr",
     "output_type": "stream",
     "text": [
      "                                                                                         \r"
     ]
    },
    {
     "name": "stdout",
     "output_type": "stream",
     "text": [
      "Epoch 4 | Train Loss: 0.7535, Acc: 79.20% | Val Loss: 0.7478, Acc: 79.93%\n"
     ]
    },
    {
     "name": "stderr",
     "output_type": "stream",
     "text": [
      "                                                                                         \r"
     ]
    },
    {
     "name": "stdout",
     "output_type": "stream",
     "text": [
      "Epoch 5 | Train Loss: 0.7371, Acc: 80.88% | Val Loss: 0.7597, Acc: 78.76%\n"
     ]
    },
    {
     "name": "stderr",
     "output_type": "stream",
     "text": [
      "                                                                                         \r"
     ]
    },
    {
     "name": "stdout",
     "output_type": "stream",
     "text": [
      "Epoch 6 | Train Loss: 0.7223, Acc: 82.44% | Val Loss: 0.7761, Acc: 76.73%\n"
     ]
    },
    {
     "name": "stderr",
     "output_type": "stream",
     "text": [
      "                                                                                         \r"
     ]
    },
    {
     "name": "stdout",
     "output_type": "stream",
     "text": [
      "Epoch 7 | Train Loss: 0.7079, Acc: 84.17% | Val Loss: 0.7908, Acc: 75.27%\n"
     ]
    },
    {
     "name": "stderr",
     "output_type": "stream",
     "text": [
      "                                                                                         \r"
     ]
    },
    {
     "name": "stdout",
     "output_type": "stream",
     "text": [
      "Epoch 8 | Train Loss: 0.7007, Acc: 84.69% | Val Loss: 0.6939, Acc: 85.40%\n"
     ]
    },
    {
     "name": "stderr",
     "output_type": "stream",
     "text": [
      "                                                                                         \r"
     ]
    },
    {
     "name": "stdout",
     "output_type": "stream",
     "text": [
      "Epoch 9 | Train Loss: 0.6884, Acc: 85.97% | Val Loss: 0.9083, Acc: 63.64%\n"
     ]
    },
    {
     "name": "stderr",
     "output_type": "stream",
     "text": [
      "                                                                                          "
     ]
    },
    {
     "name": "stdout",
     "output_type": "stream",
     "text": [
      "Epoch 10 | Train Loss: 0.6826, Acc: 86.53% | Val Loss: 0.9457, Acc: 58.96%\n"
     ]
    },
    {
     "name": "stderr",
     "output_type": "stream",
     "text": [
      "\r"
     ]
    }
   ],
   "source": [
    "# Lists to store epoch-wise metrics\n",
    "train_losses = []\n",
    "val_losses = []\n",
    "train_accs = []\n",
    "val_accs = []\n",
    "\n",
    "# Training loop with progress bar\n",
    "num_epochs = 10\n",
    "for epoch in range(num_epochs):\n",
    "    model.train()\n",
    "    train_loss = 0.0\n",
    "    correct = 0\n",
    "    total = 0\n",
    "    \n",
    "    # Training progress bar\n",
    "    train_loop = tqdm(train_loader, desc=f\"Epoch {epoch+1} [Train]\", leave=False)\n",
    "    for inputs, labels in train_loop:\n",
    "        inputs, labels = inputs.to(device), labels.to(device)\n",
    "        \n",
    "        # Forward pass\n",
    "        outputs = model(inputs)\n",
    "        loss = criterion(outputs, labels)\n",
    "        \n",
    "        # Backward pass and optimize\n",
    "        optimizer.zero_grad()\n",
    "        loss.backward()\n",
    "        optimizer.step()\n",
    "        \n",
    "        # Update metrics\n",
    "        train_loss += loss.item()\n",
    "        _, predicted = outputs.max(1)\n",
    "        total += labels.size(0)\n",
    "        correct += predicted.eq(labels).sum().item()\n",
    "        \n",
    "        # Update progress bar\n",
    "        train_loop.set_postfix(loss=loss.item(), acc=correct/total)\n",
    "\n",
    "    for layer_name, norms in grad_norms.items():\n",
    "        epoch_avg = sum(norms) / len(norms)\n",
    "        epoch_grad_norms[layer_name].append(epoch_avg)\n",
    "    grad_norms.clear()\n",
    "    \n",
    "    # Validation loop with progress bar\n",
    "    model.eval()\n",
    "    val_loss = 0.0\n",
    "    val_correct = 0\n",
    "    val_total = 0\n",
    "    \n",
    "    with torch.no_grad():\n",
    "        val_loop = tqdm(val_loader, desc=f\"Epoch {epoch+1} [Val]\", leave=False)\n",
    "        for inputs, labels in val_loop:\n",
    "            inputs, labels = inputs.to(device), labels.to(device)\n",
    "            \n",
    "            outputs = model(inputs)\n",
    "            loss = criterion(outputs, labels)\n",
    "            \n",
    "            # Update metrics\n",
    "            val_loss += loss.item()\n",
    "            _, predicted = outputs.max(1)\n",
    "            val_total += labels.size(0)\n",
    "            val_correct += predicted.eq(labels).sum().item()\n",
    "            \n",
    "            # Update progress bar\n",
    "            val_loop.set_postfix(loss=loss.item(), acc=val_correct/val_total)\n",
    "\n",
    "    # Calculate epoch metrics\n",
    "    train_loss /= len(train_loader)\n",
    "    val_loss /= len(val_loader)\n",
    "    train_acc = 100. * correct / total\n",
    "    val_acc = 100. * val_correct / val_total\n",
    "\n",
    "    # Store metrics\n",
    "    train_losses.append(train_loss)\n",
    "    val_losses.append(val_loss)\n",
    "    train_accs.append(train_acc)\n",
    "    val_accs.append(val_acc)\n",
    "\n",
    "    print(f\"Epoch {epoch+1} | \"\n",
    "          f\"Train Loss: {train_loss:.4f}, Acc: {train_acc:.2f}% | \"\n",
    "          f\"Val Loss: {val_loss:.4f}, Acc: {val_acc:.2f}%\")\n"
   ]
  },
  {
   "cell_type": "markdown",
   "metadata": {},
   "source": [
    "<span style='color:green'>### YOUR ANSWER ###</span>"
   ]
  },
  {
   "cell_type": "markdown",
   "metadata": {},
   "source": [
    "## Step 3: Gradient analysis"
   ]
  },
  {
   "cell_type": "markdown",
   "metadata": {},
   "source": [
    "- Track the average L2 norm of the gradients in each convolutional layer using PyTorch hooks."
   ]
  },
  {
   "cell_type": "markdown",
   "metadata": {},
   "source": [
    "- Create a plot showing the average gradient norm for each convolutional layer over time."
   ]
  },
  {
   "cell_type": "code",
   "execution_count": 67,
   "metadata": {},
   "outputs": [
    {
     "data": {
      "image/png": "[encoded data removed]",
      "text/plain": [
       "<Figure size 864x432 with 1 Axes>"
      ]
     },
     "metadata": {
      "needs_background": "light"
     },
     "output_type": "display_data"
    }
   ],
   "source": [
    "plt.figure(figsize=(12, 6))\n",
    "for layer_name, gradients in epoch_grad_norms.items():\n",
    "    plt.plot(gradients, label=layer_name)\n",
    "\n",
    "plt.xlabel(\"Epoch\")\n",
    "plt.ylabel(\"Average Gradient Norm (L2)\")\n",
    "plt.title(\"Gradient Norms Across All Convolutional Layers\")\n",
    "plt.legend(bbox_to_anchor=(1.05, 1), loc=\"upper left\")\n",
    "plt.tight_layout()\n",
    "plt.show()\n"
   ]
  },
  {
   "cell_type": "markdown",
   "metadata": {},
   "source": [
    "- Create a separate plot showing the gradient norms for a subset of layers."
   ]
  },
  {
   "cell_type": "code",
   "execution_count": 68,
   "metadata": {},
   "outputs": [
    {
     "data": {
      "image/png": "[encoded data removed]",
      "text/plain": [
       "<Figure size 864x432 with 1 Axes>"
      ]
     },
     "metadata": {
      "needs_background": "light"
     },
     "output_type": "display_data"
    }
   ],
   "source": [
    "selected_layers = [\"features.2\", \"features.10\", \"features.17\", \"features.35\"]\n",
    "\n",
    "plt.figure(figsize=(12, 6))\n",
    "for layer_name in selected_layers:\n",
    "    if layer_name in epoch_grad_norms:\n",
    "        plt.plot(epoch_grad_norms[layer_name], label=layer_name)\n",
    "\n",
    "plt.xlabel(\"Epoch\")\n",
    "plt.ylabel(\"Average Gradient Norm (L2)\")\n",
    "plt.title(\"Gradient Norms Across Key Layers\")\n",
    "plt.legend(loc=\"best\")\n",
    "plt.show()\n"
   ]
  },
  {
   "cell_type": "markdown",
   "metadata": {},
   "source": [
    "<span style='color:green'>### YOUR ANSWER ###</span>"
   ]
  },
  {
   "cell_type": "markdown",
   "metadata": {},
   "source": [
    "## Step 4: Comparison with VGG-16 and ResNet-18"
   ]
  },
  {
   "cell_type": "markdown",
   "metadata": {},
   "source": [
    "- Compare the training curves (loss and accuracy vs. epoch) of VGG-Deep, VGG-16, and ResNet-18."
   ]
  },
  {
   "cell_type": "code",
   "execution_count": 74,
   "metadata": {},
   "outputs": [
    {
     "data": {
      "image/png": "[encoded data removed]",
      "text/plain": [
       "<Figure size 864x576 with 4 Axes>"
      ]
     },
     "metadata": {
      "needs_background": "light"
     },
     "output_type": "display_data"
    }
   ],
   "source": [
    "import json\n",
    "import matplotlib.pyplot as plt\n",
    "\n",
    "# Load the JSON files\n",
    "with open(\"VGG.json\", \"r\") as f:\n",
    "    VGG_data = json.load(f)\n",
    "\n",
    "with open(\"ResNet.json\", \"r\") as f:\n",
    "    ResNet_data = json.load(f)\n",
    "\n",
    "# Extract values from both models\n",
    "train_losses_vgg = VGG_data[\"train_losses\"]\n",
    "val_losses_vgg = VGG_data[\"val_losses\"]\n",
    "train_accs_vgg = VGG_data[\"train_accs\"]\n",
    "val_accs_vgg = VGG_data[\"val_accs\"]\n",
    "\n",
    "train_losses_resnet = ResNet_data[\"train_losses\"]\n",
    "val_losses_resnet = ResNet_data[\"val_losses\"]\n",
    "train_accs_resnet = ResNet_data[\"train_accs\"]\n",
    "val_accs_resnet = ResNet_data[\"val_accs\"]\n",
    "\n",
    "epochs = range(1, len(train_losses_vgg) + 1)  \n",
    "\n",
    "plt.figure(figsize=(12, 8))\n",
    "\n",
    "\n",
    "plt.subplot(2, 2, 1)\n",
    "plt.plot(epochs, train_losses_vgg, marker=\"o\", linestyle=\"-\", color=\"b\", label=\"VGG Train Loss\")\n",
    "plt.plot(epochs, train_losses_resnet, marker=\"s\", linestyle=\"--\", color=\"c\", label=\"ResNet Train Loss\")\n",
    "plt.xlabel(\"Epochs\")\n",
    "plt.ylabel(\"Loss\")\n",
    "plt.title(\"Train Loss over Epochs\")\n",
    "plt.legend()\n",
    "\n",
    "\n",
    "plt.subplot(2, 2, 2)\n",
    "plt.plot(epochs, val_losses_vgg, marker=\"o\", linestyle=\"-\", color=\"r\", label=\"VGG Validation Loss\")\n",
    "plt.plot(epochs, val_losses_resnet, marker=\"s\", linestyle=\"--\", color=\"orange\", label=\"ResNet Validation Loss\")\n",
    "plt.xlabel(\"Epochs\")\n",
    "plt.ylabel(\"Loss\")\n",
    "plt.title(\"Validation Loss over Epochs\")\n",
    "plt.legend()\n",
    "\n",
    "\n",
    "plt.subplot(2, 2, 3)\n",
    "plt.plot(epochs, train_accs_vgg, marker=\"o\", linestyle=\"-\", color=\"g\", label=\"VGG Train Accuracy\")\n",
    "plt.plot(epochs, train_accs_resnet, marker=\"s\", linestyle=\"--\", color=\"lime\", label=\"ResNet Train Accuracy\")\n",
    "plt.xlabel(\"Epochs\")\n",
    "plt.ylabel(\"Accuracy\")\n",
    "plt.title(\"Train Accuracy over Epochs\")\n",
    "plt.legend()\n",
    "\n",
    "plt.subplot(2, 2, 4)\n",
    "plt.plot(epochs, val_accs_vgg, marker=\"o\", linestyle=\"-\", color=\"m\", label=\"VGG Validation Accuracy\")\n",
    "plt.plot(epochs, val_accs_resnet, marker=\"s\", linestyle=\"--\", color=\"purple\", label=\"ResNet Validation Accuracy\")\n",
    "plt.xlabel(\"Epochs\")\n",
    "plt.ylabel(\"Accuracy\")\n",
    "plt.title(\"Validation Accuracy over Epochs\")\n",
    "plt.legend()\n",
    "\n",
    "plt.tight_layout()\n",
    "plt.show()"
   ]
  },
  {
   "cell_type": "markdown",
   "metadata": {},
   "source": [
    "- Discuss how ResNet’s residual connections impact the gradient flow compared to VGG-Deep."
   ]
  },
  {
   "cell_type": "markdown",
   "metadata": {},
   "source": [
    "<span style='color:green'>### YOUR ANSWER ###</span>"
   ]
  },
  {
   "cell_type": "markdown",
   "metadata": {},
   "source": [
    "## Step 5: Investigate and analyze more setups"
   ]
  },
  {
   "cell_type": "markdown",
   "metadata": {},
   "source": [
    "- Select any THREE experiments to investigate and analyze."
   ]
  },
  {
   "cell_type": "code",
   "execution_count": 19,
   "metadata": {},
   "outputs": [],
   "source": [
    "train_subset_idx, temp_subset_idx = train_test_split(range(len(dataset)), train_size=3000, test_size=900, random_state=42)\n",
    "\n",
    "val_subset_idx, test_subset_idx = train_test_split(temp_subset_idx, train_size=450, test_size=450, random_state=42)\n",
    "\n",
    "train_subset_dataset = torch.utils.data.Subset(dataset, train_subset_idx)\n",
    "val_subset_dataset = torch.utils.data.Subset(dataset, val_subset_idx)\n",
    "test_subset_dataset = torch.utils.data.Subset(dataset, test_subset_idx)\n",
    "\n",
    "\n",
    "train_subset_loader = DataLoader(train_subset_dataset, batch_size=32, shuffle=True)\n",
    "val_subset_loader = DataLoader(val_subset_dataset, batch_size=32)\n",
    "test_subset_loader = DataLoader(test_subset_dataset, batch_size=32)"
   ]
  },
  {
   "cell_type": "code",
   "execution_count": 20,
   "metadata": {},
   "outputs": [],
   "source": [
    "import torch\n",
    "import torch.nn as nn\n",
    "\n",
    "class VGGSmallExp(nn.Module):\n",
    "    def __init__(self, pool_type='max', activation='relu', kernel_size=3):\n",
    "        super(VGGSmallExp, self).__init__()\n",
    "        \n",
    "        self.pool = nn.MaxPool2d if pool_type == 'max' else nn.AvgPool2d\n",
    "        \n",
    "        self.activation_config = {\n",
    "            'relu': (nn.ReLU, {}),\n",
    "            'leaky': (nn.LeakyReLU, {'negative_slope': 0.01}),\n",
    "            'elu': (nn.ELU, {'alpha': 1.0}),\n",
    "            'gelu': (nn.GELU, {})\n",
    "        }\n",
    "        assert activation in self.activation_config, f\"Unsupported activation: {activation}\"\n",
    "        \n",
    "        act_class, act_params = self.activation_config[activation]\n",
    "        self.act = act_class(**act_params)\n",
    "\n",
    "        self.features = nn.Sequential(\n",
    "            nn.Conv2d(3, 64, kernel_size, padding=1),\n",
    "            self.act,\n",
    "            nn.Conv2d(64, 128, kernel_size, padding=1),\n",
    "            self.act,\n",
    "            nn.Conv2d(128, 256, kernel_size, padding=1),\n",
    "            self.act,\n",
    "            self.pool(kernel_size=2, stride=2)\n",
    "        )\n",
    "\n",
    "        conv_output_size = self._get_conv_output_size((3, 64, 64))\n",
    "\n",
    "        self.classifier = nn.Sequential(\n",
    "            nn.Linear(conv_output_size, 512),\n",
    "            self.act,\n",
    "            nn.Dropout(0.5),\n",
    "            nn.Linear(512, 512),\n",
    "            self.act,\n",
    "            nn.Dropout(0.5),\n",
    "            nn.Linear(512, 3),\n",
    "        )\n",
    "\n",
    "    def _get_conv_output_size(self, input_size):\n",
    "        with torch.no_grad():\n",
    "            dummy_input = torch.zeros(1, 3, 64, 64)\n",
    "            dummy_output = self.features(dummy_input)\n",
    "            return dummy_output.view(1, -1).size(1)\n",
    "\n",
    "    def forward(self, x):\n",
    "        x = self.features(x)\n",
    "        x = torch.flatten(x, 1)\n",
    "        x = self.classifier(x)\n",
    "        return x\n",
    "\n",
    "\n"
   ]
  },
  {
   "cell_type": "code",
   "execution_count": 21,
   "metadata": {},
   "outputs": [],
   "source": [
    "def train_model(model, train_loader, val_loader, criterion, optimizer, scheduler, num_epochs=10):\n",
    "\n",
    "    train_losses, val_losses, train_accs, val_accs = [], [], [], []\n",
    "\n",
    "    for epoch in range(num_epochs):\n",
    "        epoch_start = time.time()\n",
    "        model.train()\n",
    "        running_loss, correct, total = 0.0, 0, 0\n",
    "        \n",
    "        with tqdm(train_loader, unit=\"batch\") as tepoch:\n",
    "            for images, labels in tepoch:\n",
    "                images, labels = images.to(device, non_blocking=True), labels.to(device, non_blocking=True)\n",
    "\n",
    "                optimizer.zero_grad()\n",
    "                outputs = model(images)\n",
    "                loss = criterion(outputs, labels)\n",
    "                loss.backward()\n",
    "                optimizer.step()\n",
    "\n",
    "                running_loss += loss.item()\n",
    "                _, predicted = outputs.max(1)\n",
    "                correct += predicted.eq(labels).sum().item()\n",
    "                total += labels.size(0)\n",
    "                \n",
    "                tepoch.set_postfix(lr=optimizer.param_groups[0]['lr'], loss=loss.item())\n",
    "        \n",
    "        train_loss = running_loss / len(train_loader)\n",
    "        train_losses.append(train_loss)\n",
    "        \n",
    "        train_acc = correct / total\n",
    "        train_accs.append(train_acc)\n",
    "\n",
    "       \n",
    "        model.eval()\n",
    "        val_loss, val_correct, val_total = 0.0, 0, 0\n",
    "        with torch.no_grad():\n",
    "            for images, labels in val_loader:\n",
    "                images, labels = images.to(device), labels.to(device)\n",
    "                outputs = model(images)\n",
    "                loss = criterion(outputs, labels)\n",
    "                val_loss += loss.item()\n",
    "                _, predicted = outputs.max(1)\n",
    "                val_correct += predicted.eq(labels).sum().item()\n",
    "                val_total += labels.size(0)\n",
    "\n",
    "        val_loss /= len(val_loader)\n",
    "        val_acc = val_correct / val_total\n",
    "        val_losses.append(val_loss)\n",
    "        val_accs.append(val_acc)\n",
    "\n",
    "        scheduler.step()\n",
    "        print(f\"Epoch [{epoch+1}/{num_epochs}], Train Loss: {train_loss:.4f}, Train Acc: {train_acc:.4f}, \"\n",
    "              f\"Val Loss: {val_loss:.4f}, Val Acc: {val_acc:.4f}, Time: {(time.time() - epoch_start):.1f}s\")\n",
    "\n",
    "    return train_losses, val_losses, train_accs, val_accs"
   ]
  },
  {
   "cell_type": "code",
   "execution_count": 22,
   "metadata": {},
   "outputs": [],
   "source": [
    "def test_model(model, test_loader):\n",
    "    model.eval()\n",
    "    device = torch.device(\"mps\" if torch.backends.mps.is_available() else \n",
    "                          \"cuda\" if torch.cuda.is_available() else \"cpu\")\n",
    "    model.to(device)\n",
    "\n",
    "    correct, total = 0, 0\n",
    "    test_loss = 0.0\n",
    "\n",
    "    with torch.no_grad():\n",
    "        for images, labels in test_loader:\n",
    "            images, labels = images.to(device), labels.to(device)\n",
    "            outputs = model(images)\n",
    "            loss = criterion(outputs, labels)\n",
    "            test_loss += loss.item()\n",
    "            _, predicted = outputs.max(1)\n",
    "            correct += predicted.eq(labels).sum().item()\n",
    "            total += labels.size(0)\n",
    "\n",
    "    test_acc = correct / total\n",
    "    test_loss /= len(test_loader)\n",
    "    \n",
    "    print(f\"Test Loss: {test_loss:.4f}, Test Accuracy: {test_acc:.4f}\")\n",
    "    return test_loss, test_acc"
   ]
  },
  {
   "cell_type": "code",
   "execution_count": 23,
   "metadata": {},
   "outputs": [],
   "source": [
    "criterion = nn.CrossEntropyLoss()\n",
    "num_epochs = 10"
   ]
  },
  {
   "cell_type": "markdown",
   "metadata": {},
   "source": [
    "### Experiment 1"
   ]
  },
  {
   "cell_type": "code",
   "execution_count": 24,
   "metadata": {},
   "outputs": [
    {
     "name": "stderr",
     "output_type": "stream",
     "text": [
      "100%|██████████| 94/94 [00:02<00:00, 39.94batch/s, loss=0.85, lr=0.01] \n"
     ]
    },
    {
     "name": "stdout",
     "output_type": "stream",
     "text": [
      "Epoch [1/10], Train Loss: 1.0423, Train Acc: 0.4347, Val Loss: 0.8144, Val Acc: 0.6133, Time: 2.6s\n"
     ]
    },
    {
     "name": "stderr",
     "output_type": "stream",
     "text": [
      "100%|██████████| 94/94 [00:02<00:00, 40.83batch/s, loss=0.808, lr=0.01]\n"
     ]
    },
    {
     "name": "stdout",
     "output_type": "stream",
     "text": [
      "Epoch [2/10], Train Loss: 0.7387, Train Acc: 0.6793, Val Loss: 0.6183, Val Acc: 0.7444, Time: 2.5s\n"
     ]
    },
    {
     "name": "stderr",
     "output_type": "stream",
     "text": [
      "100%|██████████| 94/94 [00:02<00:00, 37.27batch/s, loss=0.642, lr=0.001]\n"
     ]
    },
    {
     "name": "stdout",
     "output_type": "stream",
     "text": [
      "Epoch [3/10], Train Loss: 0.6132, Train Acc: 0.7393, Val Loss: 0.5650, Val Acc: 0.7556, Time: 2.7s\n"
     ]
    },
    {
     "name": "stderr",
     "output_type": "stream",
     "text": [
      "100%|██████████| 94/94 [00:02<00:00, 43.13batch/s, loss=0.403, lr=0.001]\n"
     ]
    },
    {
     "name": "stdout",
     "output_type": "stream",
     "text": [
      "Epoch [4/10], Train Loss: 0.5782, Train Acc: 0.7473, Val Loss: 0.5733, Val Acc: 0.7444, Time: 2.4s\n"
     ]
    },
    {
     "name": "stderr",
     "output_type": "stream",
     "text": [
      "100%|██████████| 94/94 [00:02<00:00, 44.17batch/s, loss=0.652, lr=0.0001]\n"
     ]
    },
    {
     "name": "stdout",
     "output_type": "stream",
     "text": [
      "Epoch [5/10], Train Loss: 0.5598, Train Acc: 0.7647, Val Loss: 0.5460, Val Acc: 0.7556, Time: 2.4s\n"
     ]
    },
    {
     "name": "stderr",
     "output_type": "stream",
     "text": [
      "100%|██████████| 94/94 [00:02<00:00, 42.41batch/s, loss=0.549, lr=0.0001]\n"
     ]
    },
    {
     "name": "stdout",
     "output_type": "stream",
     "text": [
      "Epoch [6/10], Train Loss: 0.5590, Train Acc: 0.7630, Val Loss: 0.5423, Val Acc: 0.7600, Time: 2.4s\n"
     ]
    },
    {
     "name": "stderr",
     "output_type": "stream",
     "text": [
      "100%|██████████| 94/94 [00:02<00:00, 42.84batch/s, loss=0.449, lr=1e-5]\n"
     ]
    },
    {
     "name": "stdout",
     "output_type": "stream",
     "text": [
      "Epoch [7/10], Train Loss: 0.5495, Train Acc: 0.7637, Val Loss: 0.5418, Val Acc: 0.7622, Time: 2.4s\n"
     ]
    },
    {
     "name": "stderr",
     "output_type": "stream",
     "text": [
      "100%|██████████| 94/94 [00:02<00:00, 37.97batch/s, loss=0.673, lr=1e-5]\n"
     ]
    },
    {
     "name": "stdout",
     "output_type": "stream",
     "text": [
      "Epoch [8/10], Train Loss: 0.5531, Train Acc: 0.7597, Val Loss: 0.5418, Val Acc: 0.7622, Time: 2.8s\n"
     ]
    },
    {
     "name": "stderr",
     "output_type": "stream",
     "text": [
      "100%|██████████| 94/94 [00:02<00:00, 41.76batch/s, loss=0.601, lr=1e-6]\n"
     ]
    },
    {
     "name": "stdout",
     "output_type": "stream",
     "text": [
      "Epoch [9/10], Train Loss: 0.5504, Train Acc: 0.7747, Val Loss: 0.5417, Val Acc: 0.7622, Time: 2.5s\n"
     ]
    },
    {
     "name": "stderr",
     "output_type": "stream",
     "text": [
      "100%|██████████| 94/94 [00:02<00:00, 42.54batch/s, loss=0.39, lr=1e-6] \n"
     ]
    },
    {
     "name": "stdout",
     "output_type": "stream",
     "text": [
      "Epoch [10/10], Train Loss: 0.5455, Train Acc: 0.7763, Val Loss: 0.5417, Val Acc: 0.7622, Time: 2.4s\n",
      "Test Loss: 0.5615, Test Accuracy: 0.7578\n"
     ]
    }
   ],
   "source": [
    "### ADD YOUR CODE HERE ###\n",
    "\n",
    "# Kernal_size = 3\n",
    "\n",
    "model_kernal3 = VGGSmallExp(kernel_size=3).to(device)\n",
    "\n",
    "optimizer = optim.SGD(model_kernal3.parameters(), lr=0.01, momentum = 0.9)\n",
    "\n",
    "scheduler = optim.lr_scheduler.StepLR(optimizer, step_size=2, gamma=0.1)\n",
    "\n",
    "train_model(model_kernal3, train_subset_loader, val_subset_loader, criterion, optimizer, scheduler,num_epochs)\n",
    "\n",
    "k3_test_loss, k3_test_acc = test_model(model_kernal3, test_subset_loader)"
   ]
  },
  {
   "cell_type": "code",
   "execution_count": 25,
   "metadata": {},
   "outputs": [
    {
     "name": "stderr",
     "output_type": "stream",
     "text": [
      "100%|██████████| 94/94 [00:02<00:00, 37.59batch/s, loss=0.9, lr=0.01]  \n"
     ]
    },
    {
     "name": "stdout",
     "output_type": "stream",
     "text": [
      "Epoch [1/10], Train Loss: 1.0158, Train Acc: 0.4630, Val Loss: 0.8544, Val Acc: 0.6378, Time: 2.7s\n"
     ]
    },
    {
     "name": "stderr",
     "output_type": "stream",
     "text": [
      "100%|██████████| 94/94 [00:02<00:00, 41.34batch/s, loss=0.632, lr=0.01]\n"
     ]
    },
    {
     "name": "stdout",
     "output_type": "stream",
     "text": [
      "Epoch [2/10], Train Loss: 0.8727, Train Acc: 0.5993, Val Loss: 0.9305, Val Acc: 0.4556, Time: 2.5s\n"
     ]
    },
    {
     "name": "stderr",
     "output_type": "stream",
     "text": [
      "100%|██████████| 94/94 [00:02<00:00, 35.88batch/s, loss=0.645, lr=0.001]\n"
     ]
    },
    {
     "name": "stdout",
     "output_type": "stream",
     "text": [
      "Epoch [3/10], Train Loss: 0.7657, Train Acc: 0.6623, Val Loss: 0.6620, Val Acc: 0.6956, Time: 2.9s\n"
     ]
    },
    {
     "name": "stderr",
     "output_type": "stream",
     "text": [
      "100%|██████████| 94/94 [00:02<00:00, 39.45batch/s, loss=0.83, lr=0.001] \n"
     ]
    },
    {
     "name": "stdout",
     "output_type": "stream",
     "text": [
      "Epoch [4/10], Train Loss: 0.7004, Train Acc: 0.7003, Val Loss: 0.6548, Val Acc: 0.7111, Time: 2.6s\n"
     ]
    },
    {
     "name": "stderr",
     "output_type": "stream",
     "text": [
      "100%|██████████| 94/94 [00:02<00:00, 40.04batch/s, loss=0.467, lr=0.0001]\n"
     ]
    },
    {
     "name": "stdout",
     "output_type": "stream",
     "text": [
      "Epoch [5/10], Train Loss: 0.6696, Train Acc: 0.7193, Val Loss: 0.6154, Val Acc: 0.7378, Time: 2.6s\n"
     ]
    },
    {
     "name": "stderr",
     "output_type": "stream",
     "text": [
      "100%|██████████| 94/94 [00:02<00:00, 40.78batch/s, loss=0.538, lr=0.0001]\n"
     ]
    },
    {
     "name": "stdout",
     "output_type": "stream",
     "text": [
      "Epoch [6/10], Train Loss: 0.6676, Train Acc: 0.7270, Val Loss: 0.6109, Val Acc: 0.7489, Time: 2.5s\n"
     ]
    },
    {
     "name": "stderr",
     "output_type": "stream",
     "text": [
      "100%|██████████| 94/94 [00:02<00:00, 39.38batch/s, loss=0.648, lr=1e-5]\n"
     ]
    },
    {
     "name": "stdout",
     "output_type": "stream",
     "text": [
      "Epoch [7/10], Train Loss: 0.6717, Train Acc: 0.7303, Val Loss: 0.6107, Val Acc: 0.7400, Time: 2.6s\n"
     ]
    },
    {
     "name": "stderr",
     "output_type": "stream",
     "text": [
      "100%|██████████| 94/94 [00:02<00:00, 38.36batch/s, loss=0.571, lr=1e-5]\n"
     ]
    },
    {
     "name": "stdout",
     "output_type": "stream",
     "text": [
      "Epoch [8/10], Train Loss: 0.6649, Train Acc: 0.7217, Val Loss: 0.6107, Val Acc: 0.7378, Time: 2.8s\n"
     ]
    },
    {
     "name": "stderr",
     "output_type": "stream",
     "text": [
      "100%|██████████| 94/94 [00:02<00:00, 31.78batch/s, loss=0.515, lr=1e-6]\n"
     ]
    },
    {
     "name": "stdout",
     "output_type": "stream",
     "text": [
      "Epoch [9/10], Train Loss: 0.6597, Train Acc: 0.7280, Val Loss: 0.6106, Val Acc: 0.7378, Time: 3.2s\n"
     ]
    },
    {
     "name": "stderr",
     "output_type": "stream",
     "text": [
      "100%|██████████| 94/94 [00:02<00:00, 38.96batch/s, loss=0.63, lr=1e-6] \n"
     ]
    },
    {
     "name": "stdout",
     "output_type": "stream",
     "text": [
      "Epoch [10/10], Train Loss: 0.6611, Train Acc: 0.7247, Val Loss: 0.6106, Val Acc: 0.7378, Time: 2.6s\n",
      "Test Loss: 0.6520, Test Accuracy: 0.7378\n"
     ]
    }
   ],
   "source": [
    "# Kernal_size = 5\n",
    "model_kernal5 = VGGSmallExp(kernel_size=5).to(device)\n",
    "\n",
    "optimizer = optim.SGD(model_kernal5.parameters(), lr=0.01, momentum = 0.9)\n",
    "\n",
    "scheduler = optim.lr_scheduler.StepLR(optimizer, step_size=2, gamma=0.1)\n",
    "\n",
    "train_model(model_kernal5, train_subset_loader, val_subset_loader, criterion, optimizer, scheduler, num_epochs)\n",
    "\n",
    "k5_test_loss, k5_test_acc = test_model(model_kernal5, test_subset_loader)"
   ]
  },
  {
   "cell_type": "code",
   "execution_count": 26,
   "metadata": {},
   "outputs": [
    {
     "name": "stderr",
     "output_type": "stream",
     "text": [
      "100%|██████████| 94/94 [00:02<00:00, 36.20batch/s, loss=1.06, lr=0.01] \n"
     ]
    },
    {
     "name": "stdout",
     "output_type": "stream",
     "text": [
      "Epoch [1/10], Train Loss: 1.0890, Train Acc: 0.4000, Val Loss: 1.0507, Val Acc: 0.5778, Time: 2.9s\n"
     ]
    },
    {
     "name": "stderr",
     "output_type": "stream",
     "text": [
      "100%|██████████| 94/94 [00:02<00:00, 39.90batch/s, loss=0.926, lr=0.01]\n"
     ]
    },
    {
     "name": "stdout",
     "output_type": "stream",
     "text": [
      "Epoch [2/10], Train Loss: 0.9048, Train Acc: 0.5963, Val Loss: 0.8000, Val Acc: 0.6333, Time: 2.6s\n"
     ]
    },
    {
     "name": "stderr",
     "output_type": "stream",
     "text": [
      "100%|██████████| 94/94 [00:02<00:00, 37.76batch/s, loss=0.738, lr=0.001]\n"
     ]
    },
    {
     "name": "stdout",
     "output_type": "stream",
     "text": [
      "Epoch [3/10], Train Loss: 0.7613, Train Acc: 0.6470, Val Loss: 0.7068, Val Acc: 0.6356, Time: 2.7s\n"
     ]
    },
    {
     "name": "stderr",
     "output_type": "stream",
     "text": [
      "100%|██████████| 94/94 [00:02<00:00, 38.75batch/s, loss=0.842, lr=0.001]\n"
     ]
    },
    {
     "name": "stdout",
     "output_type": "stream",
     "text": [
      "Epoch [4/10], Train Loss: 0.7433, Train Acc: 0.6567, Val Loss: 0.7223, Val Acc: 0.6844, Time: 2.7s\n"
     ]
    },
    {
     "name": "stderr",
     "output_type": "stream",
     "text": [
      "100%|██████████| 94/94 [00:02<00:00, 38.86batch/s, loss=0.637, lr=0.0001]\n"
     ]
    },
    {
     "name": "stdout",
     "output_type": "stream",
     "text": [
      "Epoch [5/10], Train Loss: 0.7342, Train Acc: 0.6647, Val Loss: 0.6904, Val Acc: 0.6622, Time: 2.7s\n"
     ]
    },
    {
     "name": "stderr",
     "output_type": "stream",
     "text": [
      "100%|██████████| 94/94 [00:02<00:00, 37.13batch/s, loss=0.786, lr=0.0001]\n"
     ]
    },
    {
     "name": "stdout",
     "output_type": "stream",
     "text": [
      "Epoch [6/10], Train Loss: 0.7225, Train Acc: 0.6703, Val Loss: 0.6873, Val Acc: 0.6667, Time: 2.8s\n"
     ]
    },
    {
     "name": "stderr",
     "output_type": "stream",
     "text": [
      "100%|██████████| 94/94 [00:02<00:00, 37.07batch/s, loss=0.784, lr=1e-5]\n"
     ]
    },
    {
     "name": "stdout",
     "output_type": "stream",
     "text": [
      "Epoch [7/10], Train Loss: 0.7239, Train Acc: 0.6660, Val Loss: 0.6872, Val Acc: 0.6667, Time: 2.8s\n"
     ]
    },
    {
     "name": "stderr",
     "output_type": "stream",
     "text": [
      "100%|██████████| 94/94 [00:02<00:00, 39.18batch/s, loss=0.797, lr=1e-5]\n"
     ]
    },
    {
     "name": "stdout",
     "output_type": "stream",
     "text": [
      "Epoch [8/10], Train Loss: 0.7222, Train Acc: 0.6663, Val Loss: 0.6872, Val Acc: 0.6689, Time: 2.6s\n"
     ]
    },
    {
     "name": "stderr",
     "output_type": "stream",
     "text": [
      "100%|██████████| 94/94 [00:02<00:00, 39.41batch/s, loss=0.75, lr=1e-6] \n"
     ]
    },
    {
     "name": "stdout",
     "output_type": "stream",
     "text": [
      "Epoch [9/10], Train Loss: 0.7276, Train Acc: 0.6717, Val Loss: 0.6872, Val Acc: 0.6689, Time: 2.6s\n"
     ]
    },
    {
     "name": "stderr",
     "output_type": "stream",
     "text": [
      "100%|██████████| 94/94 [00:02<00:00, 38.58batch/s, loss=0.925, lr=1e-6]\n"
     ]
    },
    {
     "name": "stdout",
     "output_type": "stream",
     "text": [
      "Epoch [10/10], Train Loss: 0.7280, Train Acc: 0.6683, Val Loss: 0.6872, Val Acc: 0.6689, Time: 2.7s\n",
      "Test Loss: 0.6930, Test Accuracy: 0.6800\n"
     ]
    }
   ],
   "source": [
    "# Kernal_size = 7\n",
    "model_kernal7 = VGGSmallExp(kernel_size=7).to(device)\n",
    "\n",
    "optimizer = optim.SGD(model_kernal7.parameters(), lr=0.01, momentum = 0.9)\n",
    "\n",
    "scheduler = optim.lr_scheduler.StepLR(optimizer, step_size=2, gamma=0.1)\n",
    "\n",
    "train_model(model_kernal7, train_subset_loader, val_subset_loader, criterion, optimizer, scheduler, num_epochs)\n",
    "\n",
    "k7_test_loss, k7_test_acc = test_model(model_kernal7, test_subset_loader)"
   ]
  },
  {
   "cell_type": "code",
   "execution_count": 27,
   "metadata": {},
   "outputs": [
    {
     "data": {
      "image/png": "[encoded data removed]",
      "text/plain": [
       "<Figure size 864x576 with 2 Axes>"
      ]
     },
     "metadata": {
      "needs_background": "light"
     },
     "output_type": "display_data"
    }
   ],
   "source": [
    "f = plt.figure(figsize=(12, 8))\n",
    "f.suptitle('Impact of kernel size')\n",
    "\n",
    "ax1 = f.add_subplot(1,2,1)\n",
    "bars1 = ax1.bar(['3x3', '5x5', '7x7'], [k3_test_loss, k5_test_loss, k7_test_loss])\n",
    "ax1.set_title('Avg. test Loss')\n",
    "ax1.set_xlabel('Kernel size')\n",
    "\n",
    "for bar in bars1:\n",
    "    ax1.text(bar.get_x() + bar.get_width()/2, bar.get_height(), f'{bar.get_height():.2f}', \n",
    "             ha='center', va='bottom', fontsize=10)\n",
    "\n",
    "ax2 = f.add_subplot(1,2,2)\n",
    "bars2 = ax2.bar(['3x3', '5x5', '7x7'], [k3_test_acc, k5_test_acc, k7_test_acc])\n",
    "ax2.set_title('Test accuracy')\n",
    "ax2.set_xlabel('Kernel size')\n",
    "\n",
    "for bar in bars2:\n",
    "    ax2.text(bar.get_x() + bar.get_width()/2, bar.get_height(), f'{bar.get_height():.2f}', \n",
    "             ha='center', va='bottom', fontsize=10)\n",
    "\n",
    "plt.show()\n"
   ]
  },
  {
   "cell_type": "markdown",
   "metadata": {},
   "source": [
    "<span style='color:green'>### YOUR ANSWER ###</span>"
   ]
  },
  {
   "cell_type": "markdown",
   "metadata": {},
   "source": [
    "### Experiment 2"
   ]
  },
  {
   "cell_type": "code",
   "execution_count": 28,
   "metadata": {},
   "outputs": [
    {
     "name": "stderr",
     "output_type": "stream",
     "text": [
      "100%|██████████| 94/94 [00:02<00:00, 40.18batch/s, loss=0.723, lr=0.01]\n"
     ]
    },
    {
     "name": "stdout",
     "output_type": "stream",
     "text": [
      "Epoch [1/10], Train Loss: 0.9543, Train Acc: 0.4990, Val Loss: 0.6703, Val Acc: 0.6822, Time: 2.6s\n"
     ]
    },
    {
     "name": "stderr",
     "output_type": "stream",
     "text": [
      "100%|██████████| 94/94 [00:02<00:00, 44.37batch/s, loss=0.681, lr=0.01]\n"
     ]
    },
    {
     "name": "stdout",
     "output_type": "stream",
     "text": [
      "Epoch [2/10], Train Loss: 0.7223, Train Acc: 0.6760, Val Loss: 0.6923, Val Acc: 0.7000, Time: 2.3s\n"
     ]
    },
    {
     "name": "stderr",
     "output_type": "stream",
     "text": [
      "100%|██████████| 94/94 [00:02<00:00, 44.20batch/s, loss=0.65, lr=0.001] \n"
     ]
    },
    {
     "name": "stdout",
     "output_type": "stream",
     "text": [
      "Epoch [3/10], Train Loss: 0.6232, Train Acc: 0.7403, Val Loss: 0.5772, Val Acc: 0.7422, Time: 2.4s\n"
     ]
    },
    {
     "name": "stderr",
     "output_type": "stream",
     "text": [
      "100%|██████████| 94/94 [00:02<00:00, 44.16batch/s, loss=1.02, lr=0.001] \n"
     ]
    },
    {
     "name": "stdout",
     "output_type": "stream",
     "text": [
      "Epoch [4/10], Train Loss: 0.5870, Train Acc: 0.7537, Val Loss: 0.5462, Val Acc: 0.7556, Time: 2.4s\n"
     ]
    },
    {
     "name": "stderr",
     "output_type": "stream",
     "text": [
      "100%|██████████| 94/94 [00:02<00:00, 44.42batch/s, loss=0.23, lr=0.0001] \n"
     ]
    },
    {
     "name": "stdout",
     "output_type": "stream",
     "text": [
      "Epoch [5/10], Train Loss: 0.5449, Train Acc: 0.7753, Val Loss: 0.5372, Val Acc: 0.7489, Time: 2.3s\n"
     ]
    },
    {
     "name": "stderr",
     "output_type": "stream",
     "text": [
      "100%|██████████| 94/94 [00:02<00:00, 42.76batch/s, loss=0.628, lr=0.0001]\n"
     ]
    },
    {
     "name": "stdout",
     "output_type": "stream",
     "text": [
      "Epoch [6/10], Train Loss: 0.5450, Train Acc: 0.7807, Val Loss: 0.5344, Val Acc: 0.7511, Time: 2.4s\n"
     ]
    },
    {
     "name": "stderr",
     "output_type": "stream",
     "text": [
      "100%|██████████| 94/94 [00:02<00:00, 43.62batch/s, loss=0.32, lr=1e-5] \n"
     ]
    },
    {
     "name": "stdout",
     "output_type": "stream",
     "text": [
      "Epoch [7/10], Train Loss: 0.5388, Train Acc: 0.7777, Val Loss: 0.5341, Val Acc: 0.7489, Time: 2.4s\n"
     ]
    },
    {
     "name": "stderr",
     "output_type": "stream",
     "text": [
      "100%|██████████| 94/94 [00:02<00:00, 43.52batch/s, loss=0.453, lr=1e-5]\n"
     ]
    },
    {
     "name": "stdout",
     "output_type": "stream",
     "text": [
      "Epoch [8/10], Train Loss: 0.5357, Train Acc: 0.7787, Val Loss: 0.5340, Val Acc: 0.7511, Time: 2.4s\n"
     ]
    },
    {
     "name": "stderr",
     "output_type": "stream",
     "text": [
      "100%|██████████| 94/94 [00:02<00:00, 45.16batch/s, loss=0.336, lr=1e-6]\n"
     ]
    },
    {
     "name": "stdout",
     "output_type": "stream",
     "text": [
      "Epoch [9/10], Train Loss: 0.5433, Train Acc: 0.7813, Val Loss: 0.5340, Val Acc: 0.7533, Time: 2.3s\n"
     ]
    },
    {
     "name": "stderr",
     "output_type": "stream",
     "text": [
      "100%|██████████| 94/94 [00:02<00:00, 45.17batch/s, loss=0.961, lr=1e-6]\n"
     ]
    },
    {
     "name": "stdout",
     "output_type": "stream",
     "text": [
      "Epoch [10/10], Train Loss: 0.5406, Train Acc: 0.7780, Val Loss: 0.5340, Val Acc: 0.7511, Time: 2.3s\n",
      "Test Loss: 0.5525, Test Accuracy: 0.7622\n"
     ]
    }
   ],
   "source": [
    "### ADD YOUR CODE HERE ###\n",
    "# Max Pool\n",
    "model_maxpool = VGGSmallExp(pool_type=\"max\").to(device)\n",
    "\n",
    "optimizer = optim.SGD(model_maxpool.parameters(), lr=0.01, momentum = 0.9)\n",
    "\n",
    "scheduler = optim.lr_scheduler.StepLR(optimizer, step_size=2, gamma=0.1)\n",
    "\n",
    "train_model(model_maxpool, train_subset_loader, val_subset_loader, criterion, optimizer, scheduler, num_epochs)\n",
    "\n",
    "maxpool_test_loss, maxpool_test_acc = test_model(model_maxpool, test_subset_loader)"
   ]
  },
  {
   "cell_type": "code",
   "execution_count": 29,
   "metadata": {},
   "outputs": [
    {
     "name": "stderr",
     "output_type": "stream",
     "text": [
      "100%|██████████| 94/94 [00:02<00:00, 45.98batch/s, loss=0.906, lr=0.01]\n"
     ]
    },
    {
     "name": "stdout",
     "output_type": "stream",
     "text": [
      "Epoch [1/10], Train Loss: 1.0071, Train Acc: 0.4533, Val Loss: 0.7131, Val Acc: 0.6756, Time: 2.3s\n"
     ]
    },
    {
     "name": "stderr",
     "output_type": "stream",
     "text": [
      "100%|██████████| 94/94 [00:02<00:00, 45.18batch/s, loss=0.457, lr=0.01]\n"
     ]
    },
    {
     "name": "stdout",
     "output_type": "stream",
     "text": [
      "Epoch [2/10], Train Loss: 0.7706, Train Acc: 0.6613, Val Loss: 0.6738, Val Acc: 0.7044, Time: 2.3s\n"
     ]
    },
    {
     "name": "stderr",
     "output_type": "stream",
     "text": [
      "100%|██████████| 94/94 [00:02<00:00, 40.34batch/s, loss=0.578, lr=0.001]\n"
     ]
    },
    {
     "name": "stdout",
     "output_type": "stream",
     "text": [
      "Epoch [3/10], Train Loss: 0.6335, Train Acc: 0.7293, Val Loss: 0.5888, Val Acc: 0.7400, Time: 2.6s\n"
     ]
    },
    {
     "name": "stderr",
     "output_type": "stream",
     "text": [
      "100%|██████████| 94/94 [00:02<00:00, 41.76batch/s, loss=0.608, lr=0.001]\n"
     ]
    },
    {
     "name": "stdout",
     "output_type": "stream",
     "text": [
      "Epoch [4/10], Train Loss: 0.6077, Train Acc: 0.7480, Val Loss: 0.5710, Val Acc: 0.7578, Time: 2.5s\n"
     ]
    },
    {
     "name": "stderr",
     "output_type": "stream",
     "text": [
      "100%|██████████| 94/94 [00:02<00:00, 44.16batch/s, loss=0.522, lr=0.0001]\n"
     ]
    },
    {
     "name": "stdout",
     "output_type": "stream",
     "text": [
      "Epoch [5/10], Train Loss: 0.5923, Train Acc: 0.7453, Val Loss: 0.5654, Val Acc: 0.7622, Time: 2.4s\n"
     ]
    },
    {
     "name": "stderr",
     "output_type": "stream",
     "text": [
      "100%|██████████| 94/94 [00:02<00:00, 44.78batch/s, loss=0.492, lr=0.0001]\n"
     ]
    },
    {
     "name": "stdout",
     "output_type": "stream",
     "text": [
      "Epoch [6/10], Train Loss: 0.5872, Train Acc: 0.7553, Val Loss: 0.5639, Val Acc: 0.7622, Time: 2.3s\n"
     ]
    },
    {
     "name": "stderr",
     "output_type": "stream",
     "text": [
      "100%|██████████| 94/94 [00:02<00:00, 45.85batch/s, loss=0.744, lr=1e-5]\n"
     ]
    },
    {
     "name": "stdout",
     "output_type": "stream",
     "text": [
      "Epoch [7/10], Train Loss: 0.5780, Train Acc: 0.7543, Val Loss: 0.5640, Val Acc: 0.7600, Time: 2.3s\n"
     ]
    },
    {
     "name": "stderr",
     "output_type": "stream",
     "text": [
      "100%|██████████| 94/94 [00:02<00:00, 46.03batch/s, loss=0.515, lr=1e-5]\n"
     ]
    },
    {
     "name": "stdout",
     "output_type": "stream",
     "text": [
      "Epoch [8/10], Train Loss: 0.5788, Train Acc: 0.7570, Val Loss: 0.5640, Val Acc: 0.7600, Time: 2.3s\n"
     ]
    },
    {
     "name": "stderr",
     "output_type": "stream",
     "text": [
      "100%|██████████| 94/94 [00:02<00:00, 46.39batch/s, loss=0.666, lr=1e-6]\n"
     ]
    },
    {
     "name": "stdout",
     "output_type": "stream",
     "text": [
      "Epoch [9/10], Train Loss: 0.5815, Train Acc: 0.7530, Val Loss: 0.5640, Val Acc: 0.7600, Time: 2.2s\n"
     ]
    },
    {
     "name": "stderr",
     "output_type": "stream",
     "text": [
      "100%|██████████| 94/94 [00:02<00:00, 46.28batch/s, loss=0.652, lr=1e-6]\n"
     ]
    },
    {
     "name": "stdout",
     "output_type": "stream",
     "text": [
      "Epoch [10/10], Train Loss: 0.5826, Train Acc: 0.7607, Val Loss: 0.5640, Val Acc: 0.7600, Time: 2.2s\n",
      "Test Loss: 0.6008, Test Accuracy: 0.7467\n"
     ]
    }
   ],
   "source": [
    "model_avgpool = VGGSmallExp(pool_type=\"avg\").to(device)\n",
    "\n",
    "optimizer = optim.SGD(model_avgpool.parameters(), lr=0.01, momentum = 0.9)\n",
    "\n",
    "scheduler = optim.lr_scheduler.StepLR(optimizer, step_size=2, gamma=0.1)\n",
    "\n",
    "train_model(model_avgpool, train_subset_loader, val_subset_loader, criterion, optimizer, scheduler, num_epochs)\n",
    "\n",
    "avgpool_test_loss, avgpool_test_acc = test_model(model_avgpool, test_subset_loader)"
   ]
  },
  {
   "cell_type": "code",
   "execution_count": 36,
   "metadata": {},
   "outputs": [
    {
     "data": {
      "image/png": "[encoded data removed]",
      "text/plain": [
       "<Figure size 864x576 with 2 Axes>"
      ]
     },
     "metadata": {
      "needs_background": "light"
     },
     "output_type": "display_data"
    }
   ],
   "source": [
    "f = plt.figure(figsize=(12, 8))\n",
    "f.suptitle('Impact of MaxPool vs AveragePool')\n",
    "\n",
    "ax1 = f.add_subplot(1,2,1)\n",
    "bars1 = ax1.bar(['MaxPool', 'AveragePool'], [maxpool_test_loss, avgpool_test_loss])\n",
    "ax1.set_title('Avg. test Loss')\n",
    "\n",
    "\n",
    "for bar in bars1:\n",
    "    ax1.text(bar.get_x() + bar.get_width()/2, bar.get_height(), f'{bar.get_height():.2f}', \n",
    "             ha='center', va='bottom', fontsize=10)\n",
    "\n",
    "ax2 = f.add_subplot(1,2,2)\n",
    "bars2 = ax2.bar(['MaxPool', 'AveragePool'], [maxpool_test_acc, avgpool_test_acc])\n",
    "ax2.set_title('Test accuracy')\n",
    "\n",
    "\n",
    "for bar in bars2:\n",
    "    ax2.text(bar.get_x() + bar.get_width()/2, bar.get_height(), f'{bar.get_height():.2f}', \n",
    "             ha='center', va='bottom', fontsize=10)\n",
    "\n",
    "plt.show()"
   ]
  },
  {
   "cell_type": "markdown",
   "metadata": {},
   "source": [
    "<span style='color:green'>### YOUR ANSWER ###</span>"
   ]
  },
  {
   "cell_type": "markdown",
   "metadata": {},
   "source": [
    "### Experiment 3"
   ]
  },
  {
   "cell_type": "code",
   "execution_count": 31,
   "metadata": {},
   "outputs": [
    {
     "name": "stderr",
     "output_type": "stream",
     "text": [
      "100%|██████████| 94/94 [00:02<00:00, 43.45batch/s, loss=1.04, lr=0.01] \n"
     ]
    },
    {
     "name": "stdout",
     "output_type": "stream",
     "text": [
      "Epoch [1/10], Train Loss: 0.9938, Train Acc: 0.4827, Val Loss: 0.7037, Val Acc: 0.7067, Time: 2.4s\n"
     ]
    },
    {
     "name": "stderr",
     "output_type": "stream",
     "text": [
      "100%|██████████| 94/94 [00:01<00:00, 47.20batch/s, loss=0.652, lr=0.01]\n"
     ]
    },
    {
     "name": "stdout",
     "output_type": "stream",
     "text": [
      "Epoch [2/10], Train Loss: 0.7284, Train Acc: 0.6900, Val Loss: 0.7118, Val Acc: 0.7222, Time: 2.2s\n"
     ]
    },
    {
     "name": "stderr",
     "output_type": "stream",
     "text": [
      "100%|██████████| 94/94 [00:02<00:00, 43.12batch/s, loss=0.514, lr=0.001]\n"
     ]
    },
    {
     "name": "stdout",
     "output_type": "stream",
     "text": [
      "Epoch [3/10], Train Loss: 0.6444, Train Acc: 0.7373, Val Loss: 0.5769, Val Acc: 0.7311, Time: 2.4s\n"
     ]
    },
    {
     "name": "stderr",
     "output_type": "stream",
     "text": [
      "100%|██████████| 94/94 [00:02<00:00, 40.82batch/s, loss=0.547, lr=0.001]\n"
     ]
    },
    {
     "name": "stdout",
     "output_type": "stream",
     "text": [
      "Epoch [4/10], Train Loss: 0.5842, Train Acc: 0.7633, Val Loss: 0.5478, Val Acc: 0.7556, Time: 2.5s\n"
     ]
    },
    {
     "name": "stderr",
     "output_type": "stream",
     "text": [
      "100%|██████████| 94/94 [00:02<00:00, 44.01batch/s, loss=0.41, lr=0.0001] \n"
     ]
    },
    {
     "name": "stdout",
     "output_type": "stream",
     "text": [
      "Epoch [5/10], Train Loss: 0.5633, Train Acc: 0.7710, Val Loss: 0.5472, Val Acc: 0.7533, Time: 2.3s\n"
     ]
    },
    {
     "name": "stderr",
     "output_type": "stream",
     "text": [
      "100%|██████████| 94/94 [00:01<00:00, 47.14batch/s, loss=0.453, lr=0.0001]\n"
     ]
    },
    {
     "name": "stdout",
     "output_type": "stream",
     "text": [
      "Epoch [6/10], Train Loss: 0.5639, Train Acc: 0.7677, Val Loss: 0.5464, Val Acc: 0.7600, Time: 2.2s\n"
     ]
    },
    {
     "name": "stderr",
     "output_type": "stream",
     "text": [
      "100%|██████████| 94/94 [00:02<00:00, 46.06batch/s, loss=0.49, lr=1e-5] \n"
     ]
    },
    {
     "name": "stdout",
     "output_type": "stream",
     "text": [
      "Epoch [7/10], Train Loss: 0.5580, Train Acc: 0.7683, Val Loss: 0.5459, Val Acc: 0.7600, Time: 2.3s\n"
     ]
    },
    {
     "name": "stderr",
     "output_type": "stream",
     "text": [
      "100%|██████████| 94/94 [00:02<00:00, 44.48batch/s, loss=0.601, lr=1e-5]\n"
     ]
    },
    {
     "name": "stdout",
     "output_type": "stream",
     "text": [
      "Epoch [8/10], Train Loss: 0.5563, Train Acc: 0.7713, Val Loss: 0.5458, Val Acc: 0.7600, Time: 2.3s\n"
     ]
    },
    {
     "name": "stderr",
     "output_type": "stream",
     "text": [
      "100%|██████████| 94/94 [00:02<00:00, 44.29batch/s, loss=0.38, lr=1e-6] \n"
     ]
    },
    {
     "name": "stdout",
     "output_type": "stream",
     "text": [
      "Epoch [9/10], Train Loss: 0.5644, Train Acc: 0.7707, Val Loss: 0.5458, Val Acc: 0.7600, Time: 2.3s\n"
     ]
    },
    {
     "name": "stderr",
     "output_type": "stream",
     "text": [
      "100%|██████████| 94/94 [00:02<00:00, 42.81batch/s, loss=0.531, lr=1e-6]\n"
     ]
    },
    {
     "name": "stdout",
     "output_type": "stream",
     "text": [
      "Epoch [10/10], Train Loss: 0.5643, Train Acc: 0.7647, Val Loss: 0.5458, Val Acc: 0.7600, Time: 2.4s\n",
      "Test Loss: 0.5673, Test Accuracy: 0.7511\n"
     ]
    }
   ],
   "source": [
    "### ADD YOUR CODE HERE ###\n",
    "# Relu \n",
    "model_relu = VGGSmallExp(activation=\"relu\").to(device)\n",
    "\n",
    "optimizer = optim.SGD(model_relu.parameters(), lr=0.01, momentum = 0.9)\n",
    "\n",
    "scheduler = optim.lr_scheduler.StepLR(optimizer, step_size=2, gamma=0.1)\n",
    "\n",
    "train_model(model_relu, train_subset_loader, val_subset_loader, criterion, optimizer, scheduler, num_epochs)\n",
    "\n",
    "relu_test_loss, relu_test_acc = test_model(model_relu, test_subset_loader)"
   ]
  },
  {
   "cell_type": "code",
   "execution_count": 32,
   "metadata": {},
   "outputs": [
    {
     "name": "stderr",
     "output_type": "stream",
     "text": [
      "100%|██████████| 94/94 [00:02<00:00, 42.77batch/s, loss=0.902, lr=0.01]\n"
     ]
    },
    {
     "name": "stdout",
     "output_type": "stream",
     "text": [
      "Epoch [1/10], Train Loss: 1.0255, Train Acc: 0.4483, Val Loss: 1.0415, Val Acc: 0.3778, Time: 2.4s\n"
     ]
    },
    {
     "name": "stderr",
     "output_type": "stream",
     "text": [
      "100%|██████████| 94/94 [00:02<00:00, 42.49batch/s, loss=0.511, lr=0.01]\n"
     ]
    },
    {
     "name": "stdout",
     "output_type": "stream",
     "text": [
      "Epoch [2/10], Train Loss: 0.8599, Train Acc: 0.5990, Val Loss: 0.6523, Val Acc: 0.7200, Time: 2.5s\n"
     ]
    },
    {
     "name": "stderr",
     "output_type": "stream",
     "text": [
      "100%|██████████| 94/94 [00:02<00:00, 41.99batch/s, loss=0.681, lr=0.001]\n"
     ]
    },
    {
     "name": "stdout",
     "output_type": "stream",
     "text": [
      "Epoch [3/10], Train Loss: 0.6773, Train Acc: 0.7023, Val Loss: 0.6064, Val Acc: 0.7156, Time: 2.5s\n"
     ]
    },
    {
     "name": "stderr",
     "output_type": "stream",
     "text": [
      "100%|██████████| 94/94 [00:02<00:00, 42.02batch/s, loss=1.03, lr=0.001] \n"
     ]
    },
    {
     "name": "stdout",
     "output_type": "stream",
     "text": [
      "Epoch [4/10], Train Loss: 0.6451, Train Acc: 0.7243, Val Loss: 0.5932, Val Acc: 0.7289, Time: 2.5s\n"
     ]
    },
    {
     "name": "stderr",
     "output_type": "stream",
     "text": [
      "100%|██████████| 94/94 [00:02<00:00, 43.77batch/s, loss=0.35, lr=0.0001] \n"
     ]
    },
    {
     "name": "stdout",
     "output_type": "stream",
     "text": [
      "Epoch [5/10], Train Loss: 0.6211, Train Acc: 0.7337, Val Loss: 0.5860, Val Acc: 0.7333, Time: 2.4s\n"
     ]
    },
    {
     "name": "stderr",
     "output_type": "stream",
     "text": [
      "100%|██████████| 94/94 [00:02<00:00, 41.56batch/s, loss=0.621, lr=0.0001]\n"
     ]
    },
    {
     "name": "stdout",
     "output_type": "stream",
     "text": [
      "Epoch [6/10], Train Loss: 0.6189, Train Acc: 0.7370, Val Loss: 0.5843, Val Acc: 0.7333, Time: 2.6s\n"
     ]
    },
    {
     "name": "stderr",
     "output_type": "stream",
     "text": [
      "100%|██████████| 94/94 [00:02<00:00, 42.62batch/s, loss=0.821, lr=1e-5]\n"
     ]
    },
    {
     "name": "stdout",
     "output_type": "stream",
     "text": [
      "Epoch [7/10], Train Loss: 0.6198, Train Acc: 0.7457, Val Loss: 0.5842, Val Acc: 0.7333, Time: 2.4s\n"
     ]
    },
    {
     "name": "stderr",
     "output_type": "stream",
     "text": [
      "100%|██████████| 94/94 [00:02<00:00, 44.00batch/s, loss=0.47, lr=1e-5] \n"
     ]
    },
    {
     "name": "stdout",
     "output_type": "stream",
     "text": [
      "Epoch [8/10], Train Loss: 0.6167, Train Acc: 0.7370, Val Loss: 0.5838, Val Acc: 0.7356, Time: 2.4s\n"
     ]
    },
    {
     "name": "stderr",
     "output_type": "stream",
     "text": [
      "100%|██████████| 94/94 [00:02<00:00, 40.81batch/s, loss=0.631, lr=1e-6]\n"
     ]
    },
    {
     "name": "stdout",
     "output_type": "stream",
     "text": [
      "Epoch [9/10], Train Loss: 0.6112, Train Acc: 0.7410, Val Loss: 0.5838, Val Acc: 0.7356, Time: 2.6s\n"
     ]
    },
    {
     "name": "stderr",
     "output_type": "stream",
     "text": [
      "100%|██████████| 94/94 [00:02<00:00, 38.91batch/s, loss=0.606, lr=1e-6]\n"
     ]
    },
    {
     "name": "stdout",
     "output_type": "stream",
     "text": [
      "Epoch [10/10], Train Loss: 0.6182, Train Acc: 0.7393, Val Loss: 0.5838, Val Acc: 0.7356, Time: 2.7s\n",
      "Test Loss: 0.6439, Test Accuracy: 0.7444\n"
     ]
    }
   ],
   "source": [
    "# leaky Relu\n",
    "model_leakyrelu = VGGSmallExp(activation=\"leaky\").to(device)\n",
    "\n",
    "optimizer = optim.SGD(model_leakyrelu.parameters(), lr=0.01, momentum = 0.9)\n",
    "\n",
    "scheduler = optim.lr_scheduler.StepLR(optimizer, step_size=2, gamma=0.1)\n",
    "\n",
    "train_model(model_leakyrelu, train_subset_loader, val_subset_loader, criterion, optimizer, scheduler, num_epochs)\n",
    "\n",
    "leaky_test_loss, leaky_test_acc = test_model(model_leakyrelu, test_subset_loader)"
   ]
  },
  {
   "cell_type": "code",
   "execution_count": 33,
   "metadata": {},
   "outputs": [
    {
     "name": "stderr",
     "output_type": "stream",
     "text": [
      "100%|██████████| 94/94 [00:02<00:00, 43.57batch/s, loss=0.489, lr=0.01]\n"
     ]
    },
    {
     "name": "stdout",
     "output_type": "stream",
     "text": [
      "Epoch [1/10], Train Loss: 0.8066, Train Acc: 0.6220, Val Loss: 0.5373, Val Acc: 0.7711, Time: 2.4s\n"
     ]
    },
    {
     "name": "stderr",
     "output_type": "stream",
     "text": [
      "100%|██████████| 94/94 [00:02<00:00, 43.84batch/s, loss=0.529, lr=0.01]\n"
     ]
    },
    {
     "name": "stdout",
     "output_type": "stream",
     "text": [
      "Epoch [2/10], Train Loss: 0.5771, Train Acc: 0.7707, Val Loss: 0.6534, Val Acc: 0.7178, Time: 2.4s\n"
     ]
    },
    {
     "name": "stderr",
     "output_type": "stream",
     "text": [
      "100%|██████████| 94/94 [00:02<00:00, 44.21batch/s, loss=0.381, lr=0.001]\n"
     ]
    },
    {
     "name": "stdout",
     "output_type": "stream",
     "text": [
      "Epoch [3/10], Train Loss: 0.4237, Train Acc: 0.8313, Val Loss: 0.4770, Val Acc: 0.8089, Time: 2.3s\n"
     ]
    },
    {
     "name": "stderr",
     "output_type": "stream",
     "text": [
      "100%|██████████| 94/94 [00:02<00:00, 44.11batch/s, loss=0.457, lr=0.001]\n"
     ]
    },
    {
     "name": "stdout",
     "output_type": "stream",
     "text": [
      "Epoch [4/10], Train Loss: 0.3683, Train Acc: 0.8553, Val Loss: 0.4962, Val Acc: 0.8000, Time: 2.4s\n"
     ]
    },
    {
     "name": "stderr",
     "output_type": "stream",
     "text": [
      "100%|██████████| 94/94 [00:02<00:00, 41.89batch/s, loss=0.238, lr=0.0001] \n"
     ]
    },
    {
     "name": "stdout",
     "output_type": "stream",
     "text": [
      "Epoch [5/10], Train Loss: 0.3467, Train Acc: 0.8717, Val Loss: 0.4837, Val Acc: 0.7978, Time: 2.6s\n"
     ]
    },
    {
     "name": "stderr",
     "output_type": "stream",
     "text": [
      "100%|██████████| 94/94 [00:02<00:00, 40.86batch/s, loss=0.492, lr=0.0001]\n"
     ]
    },
    {
     "name": "stdout",
     "output_type": "stream",
     "text": [
      "Epoch [6/10], Train Loss: 0.3438, Train Acc: 0.8677, Val Loss: 0.4821, Val Acc: 0.7956, Time: 2.5s\n"
     ]
    },
    {
     "name": "stderr",
     "output_type": "stream",
     "text": [
      "100%|██████████| 94/94 [00:02<00:00, 43.56batch/s, loss=0.312, lr=1e-5]\n"
     ]
    },
    {
     "name": "stdout",
     "output_type": "stream",
     "text": [
      "Epoch [7/10], Train Loss: 0.3349, Train Acc: 0.8717, Val Loss: 0.4823, Val Acc: 0.7956, Time: 2.4s\n"
     ]
    },
    {
     "name": "stderr",
     "output_type": "stream",
     "text": [
      "100%|██████████| 94/94 [00:02<00:00, 40.04batch/s, loss=0.37, lr=1e-5] \n"
     ]
    },
    {
     "name": "stdout",
     "output_type": "stream",
     "text": [
      "Epoch [8/10], Train Loss: 0.3379, Train Acc: 0.8710, Val Loss: 0.4823, Val Acc: 0.7978, Time: 2.6s\n"
     ]
    },
    {
     "name": "stderr",
     "output_type": "stream",
     "text": [
      "100%|██████████| 94/94 [00:02<00:00, 43.81batch/s, loss=0.276, lr=1e-6]\n"
     ]
    },
    {
     "name": "stdout",
     "output_type": "stream",
     "text": [
      "Epoch [9/10], Train Loss: 0.3316, Train Acc: 0.8723, Val Loss: 0.4823, Val Acc: 0.7978, Time: 2.4s\n"
     ]
    },
    {
     "name": "stderr",
     "output_type": "stream",
     "text": [
      "100%|██████████| 94/94 [00:02<00:00, 41.42batch/s, loss=0.367, lr=1e-6]\n"
     ]
    },
    {
     "name": "stdout",
     "output_type": "stream",
     "text": [
      "Epoch [10/10], Train Loss: 0.3384, Train Acc: 0.8683, Val Loss: 0.4823, Val Acc: 0.7978, Time: 2.5s\n",
      "Test Loss: 0.5647, Test Accuracy: 0.8178\n"
     ]
    }
   ],
   "source": [
    "# elu\n",
    "model_elu = VGGSmallExp(activation=\"elu\").to(device)\n",
    "\n",
    "optimizer = optim.SGD(model_elu.parameters(), lr=0.01, momentum = 0.9)\n",
    "\n",
    "scheduler = optim.lr_scheduler.StepLR(optimizer, step_size=2, gamma=0.1)\n",
    "\n",
    "train_model(model_elu, train_subset_loader, val_subset_loader, criterion, optimizer, scheduler, num_epochs)\n",
    "\n",
    "elu_test_loss, elu_test_acc = test_model(model_elu, test_subset_loader)"
   ]
  },
  {
   "cell_type": "code",
   "execution_count": 34,
   "metadata": {},
   "outputs": [
    {
     "name": "stderr",
     "output_type": "stream",
     "text": [
      "100%|██████████| 94/94 [00:02<00:00, 41.09batch/s, loss=1.1, lr=0.01] \n"
     ]
    },
    {
     "name": "stdout",
     "output_type": "stream",
     "text": [
      "Epoch [1/10], Train Loss: 1.0952, Train Acc: 0.3687, Val Loss: 1.0786, Val Acc: 0.4489, Time: 2.5s\n"
     ]
    },
    {
     "name": "stderr",
     "output_type": "stream",
     "text": [
      "100%|██████████| 94/94 [00:02<00:00, 40.10batch/s, loss=0.627, lr=0.01]\n"
     ]
    },
    {
     "name": "stdout",
     "output_type": "stream",
     "text": [
      "Epoch [2/10], Train Loss: 0.9100, Train Acc: 0.5733, Val Loss: 0.7707, Val Acc: 0.6244, Time: 2.6s\n"
     ]
    },
    {
     "name": "stderr",
     "output_type": "stream",
     "text": [
      "100%|██████████| 94/94 [00:02<00:00, 44.58batch/s, loss=1.02, lr=0.001] \n"
     ]
    },
    {
     "name": "stdout",
     "output_type": "stream",
     "text": [
      "Epoch [3/10], Train Loss: 0.7071, Train Acc: 0.7003, Val Loss: 0.6357, Val Acc: 0.6733, Time: 2.3s\n"
     ]
    },
    {
     "name": "stderr",
     "output_type": "stream",
     "text": [
      "100%|██████████| 94/94 [00:02<00:00, 41.87batch/s, loss=0.521, lr=0.001]\n"
     ]
    },
    {
     "name": "stdout",
     "output_type": "stream",
     "text": [
      "Epoch [4/10], Train Loss: 0.6585, Train Acc: 0.7140, Val Loss: 0.6208, Val Acc: 0.6978, Time: 2.5s\n"
     ]
    },
    {
     "name": "stderr",
     "output_type": "stream",
     "text": [
      "100%|██████████| 94/94 [00:02<00:00, 41.35batch/s, loss=0.777, lr=0.0001]\n"
     ]
    },
    {
     "name": "stdout",
     "output_type": "stream",
     "text": [
      "Epoch [5/10], Train Loss: 0.6524, Train Acc: 0.7200, Val Loss: 0.6172, Val Acc: 0.7000, Time: 2.6s\n"
     ]
    },
    {
     "name": "stderr",
     "output_type": "stream",
     "text": [
      "100%|██████████| 94/94 [00:02<00:00, 43.58batch/s, loss=0.728, lr=0.0001]\n"
     ]
    },
    {
     "name": "stdout",
     "output_type": "stream",
     "text": [
      "Epoch [6/10], Train Loss: 0.6485, Train Acc: 0.7147, Val Loss: 0.6146, Val Acc: 0.7067, Time: 2.4s\n"
     ]
    },
    {
     "name": "stderr",
     "output_type": "stream",
     "text": [
      "100%|██████████| 94/94 [00:02<00:00, 41.87batch/s, loss=0.705, lr=1e-5]\n"
     ]
    },
    {
     "name": "stdout",
     "output_type": "stream",
     "text": [
      "Epoch [7/10], Train Loss: 0.6442, Train Acc: 0.7170, Val Loss: 0.6146, Val Acc: 0.7067, Time: 2.6s\n"
     ]
    },
    {
     "name": "stderr",
     "output_type": "stream",
     "text": [
      "100%|██████████| 94/94 [00:02<00:00, 39.91batch/s, loss=0.543, lr=1e-5]\n"
     ]
    },
    {
     "name": "stdout",
     "output_type": "stream",
     "text": [
      "Epoch [8/10], Train Loss: 0.6390, Train Acc: 0.7200, Val Loss: 0.6144, Val Acc: 0.7067, Time: 2.6s\n"
     ]
    },
    {
     "name": "stderr",
     "output_type": "stream",
     "text": [
      "100%|██████████| 94/94 [00:02<00:00, 43.35batch/s, loss=0.494, lr=1e-6]\n"
     ]
    },
    {
     "name": "stdout",
     "output_type": "stream",
     "text": [
      "Epoch [9/10], Train Loss: 0.6435, Train Acc: 0.7173, Val Loss: 0.6144, Val Acc: 0.7067, Time: 2.4s\n"
     ]
    },
    {
     "name": "stderr",
     "output_type": "stream",
     "text": [
      "100%|██████████| 94/94 [00:02<00:00, 44.08batch/s, loss=0.459, lr=1e-6]\n"
     ]
    },
    {
     "name": "stdout",
     "output_type": "stream",
     "text": [
      "Epoch [10/10], Train Loss: 0.6446, Train Acc: 0.7133, Val Loss: 0.6144, Val Acc: 0.7067, Time: 2.4s\n",
      "Test Loss: 0.6529, Test Accuracy: 0.7222\n"
     ]
    }
   ],
   "source": [
    "# gelu\n",
    "model_gelu = VGGSmallExp(activation=\"gelu\").to(device)\n",
    "\n",
    "optimizer = optim.SGD(model_gelu.parameters(), lr=0.01, momentum = 0.9)\n",
    "\n",
    "scheduler = optim.lr_scheduler.StepLR(optimizer, step_size=2, gamma=0.1)\n",
    "\n",
    "train_model(model_gelu, train_subset_loader, val_subset_loader, criterion, optimizer, scheduler, num_epochs)\n",
    "\n",
    "gelu_test_loss, gelu_test_acc = test_model(model_gelu, test_subset_loader)"
   ]
  },
  {
   "cell_type": "code",
   "execution_count": 35,
   "metadata": {},
   "outputs": [
    {
     "data": {
      "image/png": "[encoded data removed]",
      "text/plain": [
       "<Figure size 864x576 with 2 Axes>"
      ]
     },
     "metadata": {
      "needs_background": "light"
     },
     "output_type": "display_data"
    }
   ],
   "source": [
    "f = plt.figure(figsize=(12, 8))\n",
    "f.suptitle('Impact of Activation Function')\n",
    "\n",
    "ax1 = f.add_subplot(1,2,1)\n",
    "bars1 = ax1.bar(['Relu', 'LeakyRelu', 'Elu', 'Gelu'], [relu_test_loss, leaky_test_loss, elu_test_loss, gelu_test_loss])\n",
    "ax1.set_title('Avg. test Loss')\n",
    "ax1.set_xlabel('Activation Function')\n",
    "\n",
    "for bar in bars1:\n",
    "    ax1.text(bar.get_x() + bar.get_width()/2, bar.get_height(), f'{bar.get_height():.2f}', \n",
    "             ha='center', va='bottom', fontsize=10)\n",
    "\n",
    "ax2 = f.add_subplot(1,2,2)\n",
    "bars2 = ax2.bar(['Relu', 'LeakyRelu', 'Elu', 'Gelu'], [relu_test_acc, leaky_test_acc, elu_test_acc, gelu_test_acc])\n",
    "ax2.set_title('Test accuracy')\n",
    "ax2.set_xlabel('Activation Function')\n",
    "\n",
    "for bar in bars2:\n",
    "    ax2.text(bar.get_x() + bar.get_width()/2, bar.get_height(), f'{bar.get_height():.2f}', \n",
    "             ha='center', va='bottom', fontsize=10)\n",
    "\n",
    "plt.show()\n"
   ]
  },
  {
   "cell_type": "markdown",
   "metadata": {},
   "source": [
    "<span style='color:green'>### YOUR ANSWER ###</span>"
   ]
  },
  {
   "cell_type": "markdown",
   "metadata": {},
   "source": [
    "## Step 6: Analysis and discussion"
   ]
  },
  {
   "cell_type": "markdown",
   "metadata": {},
   "source": [
    "a. Analyze your gradient norm plots. Do they demonstrate the vanishing gradient problem? Explain how the gradient norm changes as you move deeper into VGG-Deep. Be specific and quantitative (e.g., \"The gradient norm of layer 2 is X times larger than the gradient norm of layer 10\")."
   ]
  },
  {
   "cell_type": "markdown",
   "metadata": {},
   "source": [
    "<span style='color:green'>Gradient norm of layer 2 is 4 times of last conv layer</span>"
   ]
  },
  {
   "cell_type": "markdown",
   "metadata": {},
   "source": [
    "b. Explain why the vanishing gradient problem occurs in deep networks. Relate this to the backpropagation algorithm and the chain rule. Discuss how the repeated multiplication of small gradients can lead to extremely small values in earlier layers."
   ]
  },
  {
   "cell_type": "markdown",
   "metadata": {},
   "source": [
    "<span style='color:green'>The vanishing gradient problem occurs in deep networks when gradients become extremely small during backpropagation. Since the activation functions we use Relu for instance gives a value between 0 to 1 and generaly it will be less 1 since the value is a decimal and in backprogation we do product of partial derivative hence as the layers increase we keep on multiplying decimal values and hence the values becomes closer to 0 as we do backporgation. As a result the initial layers will cause very poor training accuracy as these layers dont learn the features it is supposed to learn.</span>"
   ]
  },
  {
   "cell_type": "markdown",
   "metadata": {},
   "source": [
    "c. Explain how ResNet's architecture (residual connections) helps alleviate the vanishing gradient problem. Explain how the identity mapping allows gradients to flow more easily through the network."
   ]
  },
  {
   "cell_type": "markdown",
   "metadata": {},
   "source": [
    "<span style='color:green'>ResNet architecture uses residual connections also called as skip connections, since we bypass layers they help the gradient to flow easily during backpropogation. This residual layers helps to carry finner features learned in early layers to further layers smoothing which prevents shrinking. The identity mapping is a small value that is added which prevents the gradient to become zero.</span>"
   ]
  },
  {
   "cell_type": "markdown",
   "metadata": {},
   "source": [
    "d. Discuss the theoretical impact of batch normalization on the vanishing/exploding gradient problem. Explain how it helps stabilize and accelerate training."
   ]
  },
  {
   "cell_type": "markdown",
   "metadata": {},
   "source": [
    "<span style='color:green'>Batch Normalization mitigates the vanishing/exploding gradient problem by normalizing activations within each mini-batch, ensuring that values remain within a stable range throughout training.  Normalizing inputs prevents activations from becoming too large (exploding) or too small (vanishing), Reduces drastic changes in gradients, leading to more stable training. Since activations remain stable we can use larger learning rates, which accelerates convergence.\n",
    "</span>"
   ]
  },
  {
   "cell_type": "markdown",
   "metadata": {},
   "source": [
    "e. Summarize the key findings from your three chosen investigations."
   ]
  },
  {
   "cell_type": "markdown",
   "metadata": {},
   "source": [
    "<span style='color:green'>\n",
    "    \n",
    "**Impact of Kernel Size**\n",
    "    \n",
    "Test Loss: Smaller kernel sizes (3×3) resulted in the lowest average test loss (0.56), while larger kernels showed higher loss (0.65 for 5×5 and 0.69 for 7×7)\n",
    "\n",
    "Test Accuracy: Interestingly, the 3×3 kernel achieved the highest accuracy (0.76), followed by 5×5 (0.74), with 7×7 showing the lowest accuracy (0.68)\n",
    "\n",
    "Finding: Smaller kernels (3×3) appear optimal for both minimizing loss and maximizing accuracy in this model\n",
    "\n",
    "**Impact of MaxPool vs AveragePool**\n",
    "    \n",
    "Test Loss: MaxPool demonstrated lower test loss (0.55) compared to AveragePool (0.60)\n",
    "\n",
    "Test Accuracy: MaxPool showed slightly higher accuracy (0.76) versus AveragePool (0.75)\n",
    "\n",
    "Finding: MaxPool generally outperforms AveragePool, though the accuracy difference is minimal\n",
    "\n",
    "**Impact of Activation Function**\n",
    "    \n",
    "Test Loss: ReLU (0.57) and ELU (0.56) achieved the lowest test losses, while LeakyReLU (0.64) and GeLU (0.65) had higher losses\n",
    "\n",
    "Test Accuracy: ELU significantly outperformed other activation functions with the highest accuracy (0.82), followed by ReLU (0.75), LeakyReLU (0.74), and GeLU (0.72)\n",
    "\n",
    "Finding: ELU appears to be the optimal activation function, offering both low loss and substantially higher accuracy than alternatives\n",
    "\n",
    "**These results suggest that for optimal CNN performance in this context, using 3×3 kernels with MaxPool and ELU activation would likely yield the best result**\n",
    "    \n",
    "</span>"
   ]
  },
  {
   "cell_type": "markdown",
   "metadata": {},
   "source": [
    "f. References. Include details on all the resources used to complete this part."
   ]
  },
  {
   "cell_type": "markdown",
   "metadata": {},
   "source": [
    "<span style='color:green'>### YOUR ANSWER ###</span>\n"
   ]
  },
  {
   "cell_type": "markdown",
   "metadata": {},
   "source": [
    "https://pytorch.org/docs/stable/generated/torch.nn.modules.module.register_module_full_backward_hook.html"
   ]
  },
  {
   "cell_type": "code",
   "execution_count": null,
   "metadata": {},
   "outputs": [],
   "source": []
  }
 ],
 "metadata": {
  "kernelspec": {
   "display_name": "venv",
   "language": "python",
   "name": "venv"
  },
  "language_info": {
   "codemirror_mode": {
    "name": "ipython",
    "version": 3
   },
   "file_extension": ".py",
   "mimetype": "text/x-python",
   "name": "python",
   "nbconvert_exporter": "python",
   "pygments_lexer": "ipython3",
   "version": "3.9.6"
  }
 },
 "nbformat": 4,
 "nbformat_minor": 4
}
